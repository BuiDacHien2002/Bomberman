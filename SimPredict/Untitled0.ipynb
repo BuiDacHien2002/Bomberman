{
  "cells": [
    {
      "cell_type": "code",
      "execution_count": null,
      "metadata": {
        "colab": {
          "base_uri": "https://localhost:8080/"
        },
        "id": "FGkbqI4AK0AJ",
        "outputId": "03f132c6-61f7-4723-c176-8f59e754592f"
      },
      "outputs": [
        {
          "output_type": "stream",
          "name": "stdout",
          "text": [
            "Mounted at /content/gdrive\n"
          ]
        }
      ],
      "source": [
        "from google.colab import drive\n",
        "\n",
        "drive.mount(\"/content/gdrive\")"
      ]
    },
    {
      "cell_type": "markdown",
      "metadata": {
        "id": "ilDGvJtIsCL4"
      },
      "source": [
        "\n",
        "#q1"
      ]
    },
    {
      "cell_type": "code",
      "source": [
        "import pandas\n",
        "\n",
        "df = pandas.read_csv('/content/gdrive/MyDrive/Colab Notebooks/sim/features.csv')\n",
        "# df = df.drop(columns=['Unnamed: 0'])\n",
        "df\n",
        "y = df['price_vnd']\n",
        "df = df.drop(['price_vnd'], axis='columns')\n",
        "X = df.loc[:, df.columns != 'sim_number']\n",
        "\n",
        "from sklearn.model_selection import train_test_split\n",
        "X_train, X_test, y_train, y_test = train_test_split(X, y, test_size=0.2, random_state=42)\n",
        "\n",
        "from sklearn.tree import DecisionTreeRegressor\n",
        "from sklearn.metrics import mean_squared_error\n",
        "from sklearn.metrics import mean_absolute_error\n",
        "import math\n",
        "model = DecisionTreeRegressor()\n",
        "model.fit(X_train, y_train)\n",
        "yhat = model.predict(X_test)\n",
        "mse = math.sqrt(mean_squared_error(y_test, yhat))\n",
        "print('MSE: %.3f' % mse)\n",
        "\n",
        "mae = mean_absolute_error(y_test, yhat)\n",
        "print('MAE: %.3f' % mae)"
      ],
      "metadata": {
        "id": "2AefaosJkLqn"
      },
      "execution_count": null,
      "outputs": []
    },
    {
      "cell_type": "code",
      "execution_count": null,
      "metadata": {
        "colab": {
          "base_uri": "https://localhost:8080/",
          "height": 423
        },
        "id": "f-DYK6rcLdtk",
        "outputId": "983339e9-2487-4b2c-f542-52a0545b6cda"
      },
      "outputs": [
        {
          "output_type": "execute_result",
          "data": {
            "text/plain": [
              "        price_vnd  sim_number  090  091  092  093  094  096  097  098  ...  \\\n",
              "0          450000   343189288    0    0    0    0    0    0    0    0  ...   \n",
              "1         3000000   888899580    0    0    0    0    0    0    0    0  ...   \n",
              "2          500000   928960006    0    0    1    0    0    0    0    0  ...   \n",
              "3         5000000   902438679    1    0    0    0    0    0    0    0  ...   \n",
              "4          450000   334307889    0    0    0    0    0    0    0    0  ...   \n",
              "...           ...         ...  ...  ...  ...  ...  ...  ...  ...  ...  ...   \n",
              "199995     450000   866161769    0    0    0    0    0    0    0    0  ...   \n",
              "199996    1000000   708124126    0    0    0    0    0    0    0    0  ...   \n",
              "199997    1000000   904755200    1    0    0    0    0    0    0    0  ...   \n",
              "199998     450000   329220204    0    0    0    0    0    0    0    0  ...   \n",
              "199999    1000000   904760321    1    0    0    0    0    0    0    0  ...   \n",
              "\n",
              "        9900  9911  9922  9933  9944  9955  9966  9977  9988  9999.2  \n",
              "0          0     0     0     0     0     0     0     0     0       0  \n",
              "1          0     0     0     0     0     0     0     0     0       0  \n",
              "2          0     0     0     0     0     0     0     0     0       0  \n",
              "3          0     0     0     0     0     0     0     0     0       0  \n",
              "4          0     0     0     0     0     0     0     0     0       0  \n",
              "...      ...   ...   ...   ...   ...   ...   ...   ...   ...     ...  \n",
              "199995     0     0     0     0     0     0     0     0     0       0  \n",
              "199996     0     0     0     0     0     0     0     0     0       0  \n",
              "199997     0     0     0     0     0     0     0     0     0       0  \n",
              "199998     0     0     0     0     0     0     0     0     0       0  \n",
              "199999     0     0     0     0     0     0     0     0     0       0  \n",
              "\n",
              "[200000 rows x 1376 columns]"
            ],
            "text/html": [
              "\n",
              "  <div id=\"df-f60b55a7-5f8f-4c3a-b58c-88636d8a08ef\">\n",
              "    <div class=\"colab-df-container\">\n",
              "      <div>\n",
              "<style scoped>\n",
              "    .dataframe tbody tr th:only-of-type {\n",
              "        vertical-align: middle;\n",
              "    }\n",
              "\n",
              "    .dataframe tbody tr th {\n",
              "        vertical-align: top;\n",
              "    }\n",
              "\n",
              "    .dataframe thead th {\n",
              "        text-align: right;\n",
              "    }\n",
              "</style>\n",
              "<table border=\"1\" class=\"dataframe\">\n",
              "  <thead>\n",
              "    <tr style=\"text-align: right;\">\n",
              "      <th></th>\n",
              "      <th>price_vnd</th>\n",
              "      <th>sim_number</th>\n",
              "      <th>090</th>\n",
              "      <th>091</th>\n",
              "      <th>092</th>\n",
              "      <th>093</th>\n",
              "      <th>094</th>\n",
              "      <th>096</th>\n",
              "      <th>097</th>\n",
              "      <th>098</th>\n",
              "      <th>...</th>\n",
              "      <th>9900</th>\n",
              "      <th>9911</th>\n",
              "      <th>9922</th>\n",
              "      <th>9933</th>\n",
              "      <th>9944</th>\n",
              "      <th>9955</th>\n",
              "      <th>9966</th>\n",
              "      <th>9977</th>\n",
              "      <th>9988</th>\n",
              "      <th>9999.2</th>\n",
              "    </tr>\n",
              "  </thead>\n",
              "  <tbody>\n",
              "    <tr>\n",
              "      <th>0</th>\n",
              "      <td>450000</td>\n",
              "      <td>343189288</td>\n",
              "      <td>0</td>\n",
              "      <td>0</td>\n",
              "      <td>0</td>\n",
              "      <td>0</td>\n",
              "      <td>0</td>\n",
              "      <td>0</td>\n",
              "      <td>0</td>\n",
              "      <td>0</td>\n",
              "      <td>...</td>\n",
              "      <td>0</td>\n",
              "      <td>0</td>\n",
              "      <td>0</td>\n",
              "      <td>0</td>\n",
              "      <td>0</td>\n",
              "      <td>0</td>\n",
              "      <td>0</td>\n",
              "      <td>0</td>\n",
              "      <td>0</td>\n",
              "      <td>0</td>\n",
              "    </tr>\n",
              "    <tr>\n",
              "      <th>1</th>\n",
              "      <td>3000000</td>\n",
              "      <td>888899580</td>\n",
              "      <td>0</td>\n",
              "      <td>0</td>\n",
              "      <td>0</td>\n",
              "      <td>0</td>\n",
              "      <td>0</td>\n",
              "      <td>0</td>\n",
              "      <td>0</td>\n",
              "      <td>0</td>\n",
              "      <td>...</td>\n",
              "      <td>0</td>\n",
              "      <td>0</td>\n",
              "      <td>0</td>\n",
              "      <td>0</td>\n",
              "      <td>0</td>\n",
              "      <td>0</td>\n",
              "      <td>0</td>\n",
              "      <td>0</td>\n",
              "      <td>0</td>\n",
              "      <td>0</td>\n",
              "    </tr>\n",
              "    <tr>\n",
              "      <th>2</th>\n",
              "      <td>500000</td>\n",
              "      <td>928960006</td>\n",
              "      <td>0</td>\n",
              "      <td>0</td>\n",
              "      <td>1</td>\n",
              "      <td>0</td>\n",
              "      <td>0</td>\n",
              "      <td>0</td>\n",
              "      <td>0</td>\n",
              "      <td>0</td>\n",
              "      <td>...</td>\n",
              "      <td>0</td>\n",
              "      <td>0</td>\n",
              "      <td>0</td>\n",
              "      <td>0</td>\n",
              "      <td>0</td>\n",
              "      <td>0</td>\n",
              "      <td>0</td>\n",
              "      <td>0</td>\n",
              "      <td>0</td>\n",
              "      <td>0</td>\n",
              "    </tr>\n",
              "    <tr>\n",
              "      <th>3</th>\n",
              "      <td>5000000</td>\n",
              "      <td>902438679</td>\n",
              "      <td>1</td>\n",
              "      <td>0</td>\n",
              "      <td>0</td>\n",
              "      <td>0</td>\n",
              "      <td>0</td>\n",
              "      <td>0</td>\n",
              "      <td>0</td>\n",
              "      <td>0</td>\n",
              "      <td>...</td>\n",
              "      <td>0</td>\n",
              "      <td>0</td>\n",
              "      <td>0</td>\n",
              "      <td>0</td>\n",
              "      <td>0</td>\n",
              "      <td>0</td>\n",
              "      <td>0</td>\n",
              "      <td>0</td>\n",
              "      <td>0</td>\n",
              "      <td>0</td>\n",
              "    </tr>\n",
              "    <tr>\n",
              "      <th>4</th>\n",
              "      <td>450000</td>\n",
              "      <td>334307889</td>\n",
              "      <td>0</td>\n",
              "      <td>0</td>\n",
              "      <td>0</td>\n",
              "      <td>0</td>\n",
              "      <td>0</td>\n",
              "      <td>0</td>\n",
              "      <td>0</td>\n",
              "      <td>0</td>\n",
              "      <td>...</td>\n",
              "      <td>0</td>\n",
              "      <td>0</td>\n",
              "      <td>0</td>\n",
              "      <td>0</td>\n",
              "      <td>0</td>\n",
              "      <td>0</td>\n",
              "      <td>0</td>\n",
              "      <td>0</td>\n",
              "      <td>0</td>\n",
              "      <td>0</td>\n",
              "    </tr>\n",
              "    <tr>\n",
              "      <th>...</th>\n",
              "      <td>...</td>\n",
              "      <td>...</td>\n",
              "      <td>...</td>\n",
              "      <td>...</td>\n",
              "      <td>...</td>\n",
              "      <td>...</td>\n",
              "      <td>...</td>\n",
              "      <td>...</td>\n",
              "      <td>...</td>\n",
              "      <td>...</td>\n",
              "      <td>...</td>\n",
              "      <td>...</td>\n",
              "      <td>...</td>\n",
              "      <td>...</td>\n",
              "      <td>...</td>\n",
              "      <td>...</td>\n",
              "      <td>...</td>\n",
              "      <td>...</td>\n",
              "      <td>...</td>\n",
              "      <td>...</td>\n",
              "      <td>...</td>\n",
              "    </tr>\n",
              "    <tr>\n",
              "      <th>199995</th>\n",
              "      <td>450000</td>\n",
              "      <td>866161769</td>\n",
              "      <td>0</td>\n",
              "      <td>0</td>\n",
              "      <td>0</td>\n",
              "      <td>0</td>\n",
              "      <td>0</td>\n",
              "      <td>0</td>\n",
              "      <td>0</td>\n",
              "      <td>0</td>\n",
              "      <td>...</td>\n",
              "      <td>0</td>\n",
              "      <td>0</td>\n",
              "      <td>0</td>\n",
              "      <td>0</td>\n",
              "      <td>0</td>\n",
              "      <td>0</td>\n",
              "      <td>0</td>\n",
              "      <td>0</td>\n",
              "      <td>0</td>\n",
              "      <td>0</td>\n",
              "    </tr>\n",
              "    <tr>\n",
              "      <th>199996</th>\n",
              "      <td>1000000</td>\n",
              "      <td>708124126</td>\n",
              "      <td>0</td>\n",
              "      <td>0</td>\n",
              "      <td>0</td>\n",
              "      <td>0</td>\n",
              "      <td>0</td>\n",
              "      <td>0</td>\n",
              "      <td>0</td>\n",
              "      <td>0</td>\n",
              "      <td>...</td>\n",
              "      <td>0</td>\n",
              "      <td>0</td>\n",
              "      <td>0</td>\n",
              "      <td>0</td>\n",
              "      <td>0</td>\n",
              "      <td>0</td>\n",
              "      <td>0</td>\n",
              "      <td>0</td>\n",
              "      <td>0</td>\n",
              "      <td>0</td>\n",
              "    </tr>\n",
              "    <tr>\n",
              "      <th>199997</th>\n",
              "      <td>1000000</td>\n",
              "      <td>904755200</td>\n",
              "      <td>1</td>\n",
              "      <td>0</td>\n",
              "      <td>0</td>\n",
              "      <td>0</td>\n",
              "      <td>0</td>\n",
              "      <td>0</td>\n",
              "      <td>0</td>\n",
              "      <td>0</td>\n",
              "      <td>...</td>\n",
              "      <td>0</td>\n",
              "      <td>0</td>\n",
              "      <td>0</td>\n",
              "      <td>0</td>\n",
              "      <td>0</td>\n",
              "      <td>0</td>\n",
              "      <td>0</td>\n",
              "      <td>0</td>\n",
              "      <td>0</td>\n",
              "      <td>0</td>\n",
              "    </tr>\n",
              "    <tr>\n",
              "      <th>199998</th>\n",
              "      <td>450000</td>\n",
              "      <td>329220204</td>\n",
              "      <td>0</td>\n",
              "      <td>0</td>\n",
              "      <td>0</td>\n",
              "      <td>0</td>\n",
              "      <td>0</td>\n",
              "      <td>0</td>\n",
              "      <td>0</td>\n",
              "      <td>0</td>\n",
              "      <td>...</td>\n",
              "      <td>0</td>\n",
              "      <td>0</td>\n",
              "      <td>0</td>\n",
              "      <td>0</td>\n",
              "      <td>0</td>\n",
              "      <td>0</td>\n",
              "      <td>0</td>\n",
              "      <td>0</td>\n",
              "      <td>0</td>\n",
              "      <td>0</td>\n",
              "    </tr>\n",
              "    <tr>\n",
              "      <th>199999</th>\n",
              "      <td>1000000</td>\n",
              "      <td>904760321</td>\n",
              "      <td>1</td>\n",
              "      <td>0</td>\n",
              "      <td>0</td>\n",
              "      <td>0</td>\n",
              "      <td>0</td>\n",
              "      <td>0</td>\n",
              "      <td>0</td>\n",
              "      <td>0</td>\n",
              "      <td>...</td>\n",
              "      <td>0</td>\n",
              "      <td>0</td>\n",
              "      <td>0</td>\n",
              "      <td>0</td>\n",
              "      <td>0</td>\n",
              "      <td>0</td>\n",
              "      <td>0</td>\n",
              "      <td>0</td>\n",
              "      <td>0</td>\n",
              "      <td>0</td>\n",
              "    </tr>\n",
              "  </tbody>\n",
              "</table>\n",
              "<p>200000 rows × 1376 columns</p>\n",
              "</div>\n",
              "      <button class=\"colab-df-convert\" onclick=\"convertToInteractive('df-f60b55a7-5f8f-4c3a-b58c-88636d8a08ef')\"\n",
              "              title=\"Convert this dataframe to an interactive table.\"\n",
              "              style=\"display:none;\">\n",
              "        \n",
              "  <svg xmlns=\"http://www.w3.org/2000/svg\" height=\"24px\"viewBox=\"0 0 24 24\"\n",
              "       width=\"24px\">\n",
              "    <path d=\"M0 0h24v24H0V0z\" fill=\"none\"/>\n",
              "    <path d=\"M18.56 5.44l.94 2.06.94-2.06 2.06-.94-2.06-.94-.94-2.06-.94 2.06-2.06.94zm-11 1L8.5 8.5l.94-2.06 2.06-.94-2.06-.94L8.5 2.5l-.94 2.06-2.06.94zm10 10l.94 2.06.94-2.06 2.06-.94-2.06-.94-.94-2.06-.94 2.06-2.06.94z\"/><path d=\"M17.41 7.96l-1.37-1.37c-.4-.4-.92-.59-1.43-.59-.52 0-1.04.2-1.43.59L10.3 9.45l-7.72 7.72c-.78.78-.78 2.05 0 2.83L4 21.41c.39.39.9.59 1.41.59.51 0 1.02-.2 1.41-.59l7.78-7.78 2.81-2.81c.8-.78.8-2.07 0-2.86zM5.41 20L4 18.59l7.72-7.72 1.47 1.35L5.41 20z\"/>\n",
              "  </svg>\n",
              "      </button>\n",
              "      \n",
              "  <style>\n",
              "    .colab-df-container {\n",
              "      display:flex;\n",
              "      flex-wrap:wrap;\n",
              "      gap: 12px;\n",
              "    }\n",
              "\n",
              "    .colab-df-convert {\n",
              "      background-color: #E8F0FE;\n",
              "      border: none;\n",
              "      border-radius: 50%;\n",
              "      cursor: pointer;\n",
              "      display: none;\n",
              "      fill: #1967D2;\n",
              "      height: 32px;\n",
              "      padding: 0 0 0 0;\n",
              "      width: 32px;\n",
              "    }\n",
              "\n",
              "    .colab-df-convert:hover {\n",
              "      background-color: #E2EBFA;\n",
              "      box-shadow: 0px 1px 2px rgba(60, 64, 67, 0.3), 0px 1px 3px 1px rgba(60, 64, 67, 0.15);\n",
              "      fill: #174EA6;\n",
              "    }\n",
              "\n",
              "    [theme=dark] .colab-df-convert {\n",
              "      background-color: #3B4455;\n",
              "      fill: #D2E3FC;\n",
              "    }\n",
              "\n",
              "    [theme=dark] .colab-df-convert:hover {\n",
              "      background-color: #434B5C;\n",
              "      box-shadow: 0px 1px 3px 1px rgba(0, 0, 0, 0.15);\n",
              "      filter: drop-shadow(0px 1px 2px rgba(0, 0, 0, 0.3));\n",
              "      fill: #FFFFFF;\n",
              "    }\n",
              "  </style>\n",
              "\n",
              "      <script>\n",
              "        const buttonEl =\n",
              "          document.querySelector('#df-f60b55a7-5f8f-4c3a-b58c-88636d8a08ef button.colab-df-convert');\n",
              "        buttonEl.style.display =\n",
              "          google.colab.kernel.accessAllowed ? 'block' : 'none';\n",
              "\n",
              "        async function convertToInteractive(key) {\n",
              "          const element = document.querySelector('#df-f60b55a7-5f8f-4c3a-b58c-88636d8a08ef');\n",
              "          const dataTable =\n",
              "            await google.colab.kernel.invokeFunction('convertToInteractive',\n",
              "                                                     [key], {});\n",
              "          if (!dataTable) return;\n",
              "\n",
              "          const docLinkHtml = 'Like what you see? Visit the ' +\n",
              "            '<a target=\"_blank\" href=https://colab.research.google.com/notebooks/data_table.ipynb>data table notebook</a>'\n",
              "            + ' to learn more about interactive tables.';\n",
              "          element.innerHTML = '';\n",
              "          dataTable['output_type'] = 'display_data';\n",
              "          await google.colab.output.renderOutput(dataTable, element);\n",
              "          const docLink = document.createElement('div');\n",
              "          docLink.innerHTML = docLinkHtml;\n",
              "          element.appendChild(docLink);\n",
              "        }\n",
              "      </script>\n",
              "    </div>\n",
              "  </div>\n",
              "  "
            ]
          },
          "metadata": {},
          "execution_count": 2
        }
      ],
      "source": [
        "import pandas\n",
        "\n",
        "df = pandas.read_csv('/content/gdrive/MyDrive/Colab Notebooks/sim/features.csv')\n",
        "# df = df.drop(columns=['Unnamed: 0'])\n",
        "df"
      ]
    },
    {
      "cell_type": "code",
      "execution_count": null,
      "metadata": {
        "id": "TxToO50B56LD"
      },
      "outputs": [],
      "source": [
        "y = df['price_vnd']\n",
        "df = df.drop(['price_vnd'], axis='columns')\n",
        "X = df.loc[:, df.columns != 'sim_number']\n",
        "\n",
        "from sklearn.model_selection import train_test_split\n",
        "X_train, X_test, y_train, y_test = train_test_split(X, y, test_size=0.2, random_state=42)"
      ]
    },
    {
      "cell_type": "code",
      "execution_count": null,
      "metadata": {
        "id": "V-rRy7BJx9S-"
      },
      "outputs": [],
      "source": [
        "# from sklearn.preprocessing import StandardScaler\n",
        "# y = df['price_vnd']\n",
        "# sc_y = StandardScaler()\n",
        "# y = sc_y.fit_transform(y.values.reshape(-1, 1))\n",
        "\n",
        "# df = df.drop(['price_vnd'], axis='columns')\n",
        "# X = df.loc[:, df.columns != 'sim_number']\n",
        "# print(X.shape, y.shape)"
      ]
    },
    {
      "cell_type": "code",
      "execution_count": null,
      "metadata": {
        "id": "mSs9V0bgzLvY"
      },
      "outputs": [],
      "source": [
        "# from sklearn.model_selection import train_test_split\n",
        "# X_train, X_test, y_train, y_test = train_test_split(X, y, test_size=0.2, random_state=42)"
      ]
    },
    {
      "cell_type": "code",
      "execution_count": null,
      "metadata": {
        "id": "vC015HqyzWNG"
      },
      "outputs": [],
      "source": [
        "# from sklearn.ensemble import RandomForestRegressor\n",
        "# from sklearn.metrics import mean_absolute_error\n",
        "# from sklearn.svm import SVR\n",
        "# model = SVR(kernel = 'rbf')\n",
        "# import xgboost as xg\n",
        "# xgb_r = xg.XGBRegressor(objective ='reg:linear',\n",
        "#                   n_estimators = 10, seed = 42)\n",
        " \n",
        "# Fitting the model\n",
        "# xgb_r.fit(X_train, y_train)\n",
        " \n",
        "# Predict the model\n",
        "# yhat = xgb_r.predict(X_test)\n",
        "\n",
        "# model = RandomForestRegressor(random_state=42)\n",
        "# model.fit(X_train, y_train)\n",
        "# # # make predictions\n",
        "# yhat = model.predict(X_test)"
      ]
    },
    {
      "cell_type": "code",
      "execution_count": null,
      "metadata": {
        "id": "5ZEo5IF6aXD-"
      },
      "outputs": [],
      "source": [
        "# from sklearn.metrics import mean_squared_error\n",
        "# import math\n",
        "# # mae = mean_absolute_error(sc_y.inverse_transform(y_test), sc_y.inverse_transform(yhat.reshape(-1, 1)))\n",
        "# # print('MAE: %.3f' % mae)\n",
        "# # mse = mean_squared_error(sc_y.inverse_transform(y_test), sc_y.inverse_transform(yhat.reshape(-1, 1)))\n",
        "# # print('MSE: %.3f' % mse)\n",
        "\n",
        "# # mae = mean_absolute_error(y_test, yhat)\n",
        "# # print('MAE: %.3f' % mae)\n",
        "# mse = math.sqrt(mean_squared_error(y_test, yhat))\n",
        "# print('MSE: %.3f' % mse)"
      ]
    },
    {
      "cell_type": "code",
      "source": [
        "from sklearn.tree import DecisionTreeRegressor\n",
        "from sklearn.metrics import mean_squared_error\n",
        "import math\n",
        "model = DecisionTreeRegressor()\n",
        "model.fit(X_train, y_train)\n",
        "yhat = model.predict(X_test)\n",
        "mse = math.sqrt(mean_squared_error(y_test, yhat))\n",
        "print('MSE: %.3f' % mse)\n",
        "\n",
        "mae = mean_absolute_error(y_test, yhat)\n",
        "print('MAE: %.3f' % mae)"
      ],
      "metadata": {
        "colab": {
          "base_uri": "https://localhost:8080/"
        },
        "id": "bDM6MjTJ7Cnm",
        "outputId": "836fa39b-23dd-40b7-d4fa-12b3130f6dad"
      },
      "execution_count": null,
      "outputs": [
        {
          "output_type": "stream",
          "name": "stdout",
          "text": [
            "MSE: 848873191.668\n"
          ]
        }
      ]
    },
    {
      "cell_type": "code",
      "source": [
        "cnt = 0\n",
        "a =  sc_y.inverse_transform(yhat.reshape(-1, 1))\n",
        "b = sc_y.inverse_transform(y_test)\n",
        "for i in range(len(a)):\n",
        "    if a[i]/b[i] > 0.85 and a[i]/b[i] < 1.15:\n",
        "        cnt += 1\n",
        "print(cnt / len(a))"
      ],
      "metadata": {
        "colab": {
          "base_uri": "https://localhost:8080/"
        },
        "id": "2FtfskPzjIOT",
        "outputId": "e44ffe8c-569b-4b79-c424-180d124c988a"
      },
      "execution_count": null,
      "outputs": [
        {
          "output_type": "stream",
          "name": "stdout",
          "text": [
            "0.04397487150199886\n"
          ]
        }
      ]
    },
    {
      "cell_type": "markdown",
      "metadata": {
        "id": "LQvpVgaNsbnu"
      },
      "source": [
        "#BNN"
      ]
    },
    {
      "cell_type": "code",
      "execution_count": null,
      "metadata": {
        "colab": {
          "base_uri": "https://localhost:8080/",
          "height": 424
        },
        "id": "3PQzHcnEsiCm",
        "outputId": "7e01cb77-838d-4913-c4e5-0966f1439f02"
      },
      "outputs": [
        {
          "output_type": "execute_result",
          "data": {
            "text/plain": [
              "        price_vnd sim_number  label\n",
              "0             450  343189288      1\n",
              "1            3000  888899580      4\n",
              "2             500  928960006      3\n",
              "3            5000  902438679      5\n",
              "4             450  334307889      1\n",
              "...           ...        ...    ...\n",
              "199995        450  866161769      1\n",
              "199996       1000  708124126      2\n",
              "199997       1000  904755200      2\n",
              "199998        450  329220204      1\n",
              "199999       1000  904760321      2\n",
              "\n",
              "[200000 rows x 3 columns]"
            ],
            "text/html": [
              "\n",
              "  <div id=\"df-f7ba07f9-acca-4bbb-afd6-4a4d167d8484\">\n",
              "    <div class=\"colab-df-container\">\n",
              "      <div>\n",
              "<style scoped>\n",
              "    .dataframe tbody tr th:only-of-type {\n",
              "        vertical-align: middle;\n",
              "    }\n",
              "\n",
              "    .dataframe tbody tr th {\n",
              "        vertical-align: top;\n",
              "    }\n",
              "\n",
              "    .dataframe thead th {\n",
              "        text-align: right;\n",
              "    }\n",
              "</style>\n",
              "<table border=\"1\" class=\"dataframe\">\n",
              "  <thead>\n",
              "    <tr style=\"text-align: right;\">\n",
              "      <th></th>\n",
              "      <th>price_vnd</th>\n",
              "      <th>sim_number</th>\n",
              "      <th>label</th>\n",
              "    </tr>\n",
              "  </thead>\n",
              "  <tbody>\n",
              "    <tr>\n",
              "      <th>0</th>\n",
              "      <td>450</td>\n",
              "      <td>343189288</td>\n",
              "      <td>1</td>\n",
              "    </tr>\n",
              "    <tr>\n",
              "      <th>1</th>\n",
              "      <td>3000</td>\n",
              "      <td>888899580</td>\n",
              "      <td>4</td>\n",
              "    </tr>\n",
              "    <tr>\n",
              "      <th>2</th>\n",
              "      <td>500</td>\n",
              "      <td>928960006</td>\n",
              "      <td>3</td>\n",
              "    </tr>\n",
              "    <tr>\n",
              "      <th>3</th>\n",
              "      <td>5000</td>\n",
              "      <td>902438679</td>\n",
              "      <td>5</td>\n",
              "    </tr>\n",
              "    <tr>\n",
              "      <th>4</th>\n",
              "      <td>450</td>\n",
              "      <td>334307889</td>\n",
              "      <td>1</td>\n",
              "    </tr>\n",
              "    <tr>\n",
              "      <th>...</th>\n",
              "      <td>...</td>\n",
              "      <td>...</td>\n",
              "      <td>...</td>\n",
              "    </tr>\n",
              "    <tr>\n",
              "      <th>199995</th>\n",
              "      <td>450</td>\n",
              "      <td>866161769</td>\n",
              "      <td>1</td>\n",
              "    </tr>\n",
              "    <tr>\n",
              "      <th>199996</th>\n",
              "      <td>1000</td>\n",
              "      <td>708124126</td>\n",
              "      <td>2</td>\n",
              "    </tr>\n",
              "    <tr>\n",
              "      <th>199997</th>\n",
              "      <td>1000</td>\n",
              "      <td>904755200</td>\n",
              "      <td>2</td>\n",
              "    </tr>\n",
              "    <tr>\n",
              "      <th>199998</th>\n",
              "      <td>450</td>\n",
              "      <td>329220204</td>\n",
              "      <td>1</td>\n",
              "    </tr>\n",
              "    <tr>\n",
              "      <th>199999</th>\n",
              "      <td>1000</td>\n",
              "      <td>904760321</td>\n",
              "      <td>2</td>\n",
              "    </tr>\n",
              "  </tbody>\n",
              "</table>\n",
              "<p>200000 rows × 3 columns</p>\n",
              "</div>\n",
              "      <button class=\"colab-df-convert\" onclick=\"convertToInteractive('df-f7ba07f9-acca-4bbb-afd6-4a4d167d8484')\"\n",
              "              title=\"Convert this dataframe to an interactive table.\"\n",
              "              style=\"display:none;\">\n",
              "        \n",
              "  <svg xmlns=\"http://www.w3.org/2000/svg\" height=\"24px\"viewBox=\"0 0 24 24\"\n",
              "       width=\"24px\">\n",
              "    <path d=\"M0 0h24v24H0V0z\" fill=\"none\"/>\n",
              "    <path d=\"M18.56 5.44l.94 2.06.94-2.06 2.06-.94-2.06-.94-.94-2.06-.94 2.06-2.06.94zm-11 1L8.5 8.5l.94-2.06 2.06-.94-2.06-.94L8.5 2.5l-.94 2.06-2.06.94zm10 10l.94 2.06.94-2.06 2.06-.94-2.06-.94-.94-2.06-.94 2.06-2.06.94z\"/><path d=\"M17.41 7.96l-1.37-1.37c-.4-.4-.92-.59-1.43-.59-.52 0-1.04.2-1.43.59L10.3 9.45l-7.72 7.72c-.78.78-.78 2.05 0 2.83L4 21.41c.39.39.9.59 1.41.59.51 0 1.02-.2 1.41-.59l7.78-7.78 2.81-2.81c.8-.78.8-2.07 0-2.86zM5.41 20L4 18.59l7.72-7.72 1.47 1.35L5.41 20z\"/>\n",
              "  </svg>\n",
              "      </button>\n",
              "      \n",
              "  <style>\n",
              "    .colab-df-container {\n",
              "      display:flex;\n",
              "      flex-wrap:wrap;\n",
              "      gap: 12px;\n",
              "    }\n",
              "\n",
              "    .colab-df-convert {\n",
              "      background-color: #E8F0FE;\n",
              "      border: none;\n",
              "      border-radius: 50%;\n",
              "      cursor: pointer;\n",
              "      display: none;\n",
              "      fill: #1967D2;\n",
              "      height: 32px;\n",
              "      padding: 0 0 0 0;\n",
              "      width: 32px;\n",
              "    }\n",
              "\n",
              "    .colab-df-convert:hover {\n",
              "      background-color: #E2EBFA;\n",
              "      box-shadow: 0px 1px 2px rgba(60, 64, 67, 0.3), 0px 1px 3px 1px rgba(60, 64, 67, 0.15);\n",
              "      fill: #174EA6;\n",
              "    }\n",
              "\n",
              "    [theme=dark] .colab-df-convert {\n",
              "      background-color: #3B4455;\n",
              "      fill: #D2E3FC;\n",
              "    }\n",
              "\n",
              "    [theme=dark] .colab-df-convert:hover {\n",
              "      background-color: #434B5C;\n",
              "      box-shadow: 0px 1px 3px 1px rgba(0, 0, 0, 0.15);\n",
              "      filter: drop-shadow(0px 1px 2px rgba(0, 0, 0, 0.3));\n",
              "      fill: #FFFFFF;\n",
              "    }\n",
              "  </style>\n",
              "\n",
              "      <script>\n",
              "        const buttonEl =\n",
              "          document.querySelector('#df-f7ba07f9-acca-4bbb-afd6-4a4d167d8484 button.colab-df-convert');\n",
              "        buttonEl.style.display =\n",
              "          google.colab.kernel.accessAllowed ? 'block' : 'none';\n",
              "\n",
              "        async function convertToInteractive(key) {\n",
              "          const element = document.querySelector('#df-f7ba07f9-acca-4bbb-afd6-4a4d167d8484');\n",
              "          const dataTable =\n",
              "            await google.colab.kernel.invokeFunction('convertToInteractive',\n",
              "                                                     [key], {});\n",
              "          if (!dataTable) return;\n",
              "\n",
              "          const docLinkHtml = 'Like what you see? Visit the ' +\n",
              "            '<a target=\"_blank\" href=https://colab.research.google.com/notebooks/data_table.ipynb>data table notebook</a>'\n",
              "            + ' to learn more about interactive tables.';\n",
              "          element.innerHTML = '';\n",
              "          dataTable['output_type'] = 'display_data';\n",
              "          await google.colab.output.renderOutput(dataTable, element);\n",
              "          const docLink = document.createElement('div');\n",
              "          docLink.innerHTML = docLinkHtml;\n",
              "          element.appendChild(docLink);\n",
              "        }\n",
              "      </script>\n",
              "    </div>\n",
              "  </div>\n",
              "  "
            ]
          },
          "metadata": {},
          "execution_count": 31
        }
      ],
      "source": [
        "import pandas\n",
        "import numpy as np\n",
        "\n",
        "df = pandas.read_csv('/content/gdrive/MyDrive/Colab Notebooks/sim/train_dataset.csv')\n",
        "\n",
        "df['price_vnd']  = df['price_vnd']/1000\n",
        "df['price_vnd'] = df['price_vnd'].astype(int)\n",
        "df['sim_number'] = df['sim_number'].astype(str)\n",
        "df "
      ]
    },
    {
      "cell_type": "code",
      "execution_count": null,
      "metadata": {
        "id": "OAcdWlfsi2rH",
        "colab": {
          "base_uri": "https://localhost:8080/"
        },
        "outputId": "3cb73149-22b8-46b7-f021-f97c7f8355a1"
      },
      "outputs": [
        {
          "output_type": "execute_result",
          "data": {
            "text/plain": [
              "[(450, 45119),\n",
              " (1000, 38472),\n",
              " (500, 30619),\n",
              " (3000, 29199),\n",
              " (5000, 21383),\n",
              " (10000, 6139),\n",
              " (12000, 5125),\n",
              " (11325, 2682),\n",
              " (11000, 1760),\n",
              " (13000, 1720),\n",
              " (15000, 1417),\n",
              " (14000, 808),\n",
              " (50000, 786),\n",
              " (12500, 534),\n",
              " (10500, 531),\n",
              " (13500, 430),\n",
              " (55000, 429),\n",
              " (60000, 388),\n",
              " (10300, 331),\n",
              " (11500, 329),\n",
              " (65000, 302),\n",
              " (13900, 272),\n",
              " (68000, 270),\n",
              " (70000, 236),\n",
              " (12900, 236),\n",
              " (10400, 199),\n",
              " (11900, 197),\n",
              " (80000, 191),\n",
              " (79000, 184),\n",
              " (99000, 183),\n",
              " (100000, 182),\n",
              " (12600, 173),\n",
              " (11700, 171),\n",
              " (150000, 171),\n",
              " (75000, 169),\n",
              " (12800, 152),\n",
              " (120000, 149),\n",
              " (10100, 147),\n",
              " (58000, 146),\n",
              " (69000, 143),\n",
              " (59000, 142),\n",
              " (399, 138),\n",
              " (10800, 134),\n",
              " (90000, 132),\n",
              " (13125, 127),\n",
              " (95000, 120),\n",
              " (110000, 117),\n",
              " (85000, 112),\n",
              " (88000, 107),\n",
              " (13600, 104),\n",
              " (12400, 104),\n",
              " (10600, 101),\n",
              " (139000, 92),\n",
              " (299, 91),\n",
              " (11300, 86),\n",
              " (10900, 86),\n",
              " (13800, 85),\n",
              " (250000, 85),\n",
              " (52000, 82),\n",
              " (800000, 81),\n",
              " (89000, 77),\n",
              " (168000, 74),\n",
              " (10200, 73),\n",
              " (11250, 72),\n",
              " (66000, 71),\n",
              " (200000, 68),\n",
              " (11600, 66),\n",
              " (135000, 66),\n",
              " (130000, 62),\n",
              " (12100, 59),\n",
              " (99, 58),\n",
              " (179000, 56),\n",
              " (13200, 56),\n",
              " (72000, 54),\n",
              " (13700, 54),\n",
              " (14500, 52),\n",
              " (199000, 51),\n",
              " (160000, 51),\n",
              " (86000, 50),\n",
              " (105000, 49),\n",
              " (14300, 49),\n",
              " (180000, 48),\n",
              " (250, 47),\n",
              " (11800, 47),\n",
              " (12300, 46),\n",
              " (14700, 46),\n",
              " (125000, 45),\n",
              " (145000, 44),\n",
              " (115000, 44),\n",
              " (54000, 44),\n",
              " (900000, 42),\n",
              " (63000, 42),\n",
              " (56000, 42),\n",
              " (300000, 41),\n",
              " (12200, 40),\n",
              " (155000, 40),\n",
              " (13400, 40),\n",
              " (11200, 39),\n",
              " (77000, 38),\n",
              " (500000, 37),\n",
              " (14800, 37),\n",
              " (51000, 36),\n",
              " (14750, 36),\n",
              " (399000, 35),\n",
              " (62000, 35),\n",
              " (220000, 34),\n",
              " (13750, 33),\n",
              " (99900, 33),\n",
              " (10175, 32),\n",
              " (119, 32),\n",
              " (53000, 32),\n",
              " (12060, 32),\n",
              " (83000, 31),\n",
              " (12550, 31),\n",
              " (93000, 30),\n",
              " (14100, 30),\n",
              " (280000, 30),\n",
              " (350000, 30),\n",
              " (11100, 29),\n",
              " (10700, 29),\n",
              " (67000, 29),\n",
              " (10550, 28),\n",
              " (98000, 27),\n",
              " (57000, 27),\n",
              " (210000, 27),\n",
              " (78000, 26),\n",
              " (13300, 26),\n",
              " (140000, 26),\n",
              " (106000, 26),\n",
              " (129000, 26),\n",
              " (14200, 26),\n",
              " (123000, 25),\n",
              " (450000, 25),\n",
              " (11111, 24),\n",
              " (268000, 24),\n",
              " (10625, 23),\n",
              " (330000, 23),\n",
              " (13100, 23),\n",
              " (350, 22),\n",
              " (76000, 22),\n",
              " (73000, 22),\n",
              " (119000, 22),\n",
              " (12890, 22),\n",
              " (12700, 21),\n",
              " (82000, 21),\n",
              " (230000, 21),\n",
              " (14400, 20),\n",
              " (14900, 20),\n",
              " (118000, 19),\n",
              " (239000, 19),\n",
              " (199, 18),\n",
              " (279000, 18),\n",
              " (189000, 17),\n",
              " (195000, 17),\n",
              " (10860, 17),\n",
              " (11400, 17),\n",
              " (13388, 17),\n",
              " (299000, 16),\n",
              " (96000, 16),\n",
              " (74000, 16),\n",
              " (13990, 16),\n",
              " (59900, 16),\n",
              " (188000, 15),\n",
              " (400000, 15),\n",
              " (128000, 15),\n",
              " (12388, 15),\n",
              " (550000, 14),\n",
              " (91000, 14),\n",
              " (225000, 14),\n",
              " (14375, 14),\n",
              " (170000, 13),\n",
              " (61700, 13),\n",
              " (12650, 13),\n",
              " (10350, 13),\n",
              " (368000, 13),\n",
              " (13250, 13),\n",
              " (92000, 13),\n",
              " (102000, 13),\n",
              " (10560, 13),\n",
              " (64000, 13),\n",
              " (468000, 13),\n",
              " (10620, 13),\n",
              " (14460, 12),\n",
              " (99990, 12),\n",
              " (320000, 12),\n",
              " (10125, 12),\n",
              " (333000, 12),\n",
              " (339000, 12),\n",
              " (175000, 12),\n",
              " (138000, 12),\n",
              " (390000, 12),\n",
              " (14650, 11),\n",
              " (148000, 11),\n",
              " (61000, 11),\n",
              " (159000, 11),\n",
              " (111000, 11),\n",
              " (555000, 11),\n",
              " (108000, 11),\n",
              " (388000, 11),\n",
              " (222000, 11),\n",
              " (699000, 11),\n",
              " (289000, 10),\n",
              " (2500000, 10),\n",
              " (255000, 10),\n",
              " (10499, 10),\n",
              " (650000, 10),\n",
              " (1500000, 10),\n",
              " (10750, 10),\n",
              " (10490, 10),\n",
              " (109000, 10),\n",
              " (112000, 10),\n",
              " (71000, 10),\n",
              " (11880, 10),\n",
              " (1000000, 10),\n",
              " (260000, 10),\n",
              " (87000, 10),\n",
              " (12875, 9),\n",
              " (599000, 9),\n",
              " (169000, 9),\n",
              " (379000, 9),\n",
              " (999000, 9),\n",
              " (430000, 9),\n",
              " (290, 9),\n",
              " (1200000, 9),\n",
              " (235000, 9),\n",
              " (750000, 9),\n",
              " (12750, 9),\n",
              " (11999, 9),\n",
              " (165000, 9),\n",
              " (116000, 8),\n",
              " (12490, 8),\n",
              " (136000, 8),\n",
              " (288000, 8),\n",
              " (156000, 8),\n",
              " (12960, 8),\n",
              " (56700, 8),\n",
              " (480000, 8),\n",
              " (185000, 8),\n",
              " (53600, 7),\n",
              " (579000, 7),\n",
              " (11820, 7),\n",
              " (240000, 7),\n",
              " (56400, 7),\n",
              " (13999, 7),\n",
              " (14600, 7),\n",
              " (84000, 7),\n",
              " (190000, 7),\n",
              " (133000, 7),\n",
              " (520000, 7),\n",
              " (420000, 7),\n",
              " (11875, 7),\n",
              " (88500, 7),\n",
              " (50800, 7),\n",
              " (103000, 7),\n",
              " (380000, 7),\n",
              " (126000, 7),\n",
              " (360000, 6),\n",
              " (11550, 6),\n",
              " (97000, 6),\n",
              " (51480, 6),\n",
              " (168800, 6),\n",
              " (101000, 6),\n",
              " (600000, 6),\n",
              " (700000, 6),\n",
              " (64500, 6),\n",
              " (399999, 6),\n",
              " (13490, 6),\n",
              " (107000, 6),\n",
              " (290000, 6),\n",
              " (113000, 6),\n",
              " (10380, 6),\n",
              " (799000, 6),\n",
              " (11750, 6),\n",
              " (11430, 6),\n",
              " (245000, 6),\n",
              " (172000, 6),\n",
              " (688000, 6),\n",
              " (104000, 5),\n",
              " (77300, 5),\n",
              " (11388, 5),\n",
              " (58500, 5),\n",
              " (67500, 5),\n",
              " (14999, 5),\n",
              " (10888, 5),\n",
              " (52500, 5),\n",
              " (13380, 5),\n",
              " (122000, 5),\n",
              " (10390, 5),\n",
              " (345000, 5),\n",
              " (117000, 5),\n",
              " (176000, 5),\n",
              " (13650, 5),\n",
              " (53500, 5),\n",
              " (455000, 5),\n",
              " (14580, 5),\n",
              " (69900, 4),\n",
              " (888000, 4),\n",
              " (12499, 4),\n",
              " (256000, 4),\n",
              " (13960, 4),\n",
              " (14640, 4),\n",
              " (81000, 4),\n",
              " (68900, 4),\n",
              " (209000, 4),\n",
              " (275000, 4),\n",
              " (62500, 4),\n",
              " (11499, 4),\n",
              " (58700, 4),\n",
              " (95700, 4),\n",
              " (10962, 4),\n",
              " (880000, 4),\n",
              " (88800, 4),\n",
              " (315000, 4),\n",
              " (10321, 4),\n",
              " (10375, 4),\n",
              " (335000, 4),\n",
              " (50700, 4),\n",
              " (177000, 4),\n",
              " (666000, 4),\n",
              " (10060, 4),\n",
              " (10940, 4),\n",
              " (215000, 4),\n",
              " (86020, 4),\n",
              " (488000, 4),\n",
              " (143000, 4),\n",
              " (10735, 4),\n",
              " (173000, 4),\n",
              " (13150, 4),\n",
              " (355000, 4),\n",
              " (310000, 4),\n",
              " (1800000, 4),\n",
              " (183000, 4),\n",
              " (270000, 4),\n",
              " (10999, 4),\n",
              " (14960, 4),\n",
              " (12575, 4),\n",
              " (89900, 4),\n",
              " (158000, 4),\n",
              " (186000, 4),\n",
              " (11050, 3),\n",
              " (68800, 3),\n",
              " (390, 3),\n",
              " (142000, 3),\n",
              " (11603, 3),\n",
              " (88400, 3),\n",
              " (10630, 3),\n",
              " (1799000, 3),\n",
              " (61500, 3),\n",
              " (198000, 3),\n",
              " (259000, 3),\n",
              " (3333333, 3),\n",
              " (286000, 3),\n",
              " (66500, 3),\n",
              " (86750, 3),\n",
              " (280, 3),\n",
              " (89500, 3),\n",
              " (162000, 3),\n",
              " (12380, 3),\n",
              " (950000, 3),\n",
              " (3900000, 3),\n",
              " (228000, 3),\n",
              " (299999, 3),\n",
              " (10235, 3),\n",
              " (63500, 3),\n",
              " (389000, 3),\n",
              " (13550, 3),\n",
              " (410000, 3),\n",
              " (98800, 3),\n",
              " (72950, 3),\n",
              " (13688, 3),\n",
              " (1999000, 3),\n",
              " (446000, 3),\n",
              " (13860, 3),\n",
              " (13260, 3),\n",
              " (74600, 3),\n",
              " (1300000, 3),\n",
              " (1100000, 3),\n",
              " (89050, 3),\n",
              " (99999, 3),\n",
              " (590000, 3),\n",
              " (580000, 3),\n",
              " (11770, 3),\n",
              " (850000, 3),\n",
              " (25000000, 3),\n",
              " (298000, 3),\n",
              " (295000, 3),\n",
              " (11490, 3),\n",
              " (78700, 3),\n",
              " (680000, 3),\n",
              " (94000, 3),\n",
              " (265000, 3),\n",
              " (121000, 3),\n",
              " (10399, 3),\n",
              " (212000, 3),\n",
              " (87500, 3),\n",
              " (229000, 3),\n",
              " (226000, 3),\n",
              " (205000, 3),\n",
              " (76500, 2),\n",
              " (11390, 2),\n",
              " (86100, 2),\n",
              " (435000, 2),\n",
              " (3500000, 2),\n",
              " (206000, 2),\n",
              " (10850, 2),\n",
              " (73500, 2),\n",
              " (64600, 2),\n",
              " (148500, 2),\n",
              " (62200, 2),\n",
              " (779000, 2),\n",
              " (13888, 2),\n",
              " (1555000, 2),\n",
              " (10705, 2),\n",
              " (12999, 2),\n",
              " (1650000, 2),\n",
              " (269000, 2),\n",
              " (11380, 2),\n",
              " (56250, 2),\n",
              " (72300, 2),\n",
              " (182000, 2),\n",
              " (365000, 2),\n",
              " (11850, 2),\n",
              " (11180, 2),\n",
              " (11540, 2),\n",
              " (55200, 2),\n",
              " (400, 2),\n",
              " (323000, 2),\n",
              " (141000, 2),\n",
              " (479000, 2),\n",
              " (223000, 2),\n",
              " (13725, 2),\n",
              " (10990, 2),\n",
              " (92500, 2),\n",
              " (12345, 2),\n",
              " (313000, 2),\n",
              " (710000, 2),\n",
              " (155750, 2),\n",
              " (259500, 2),\n",
              " (14950, 2),\n",
              " (65700, 2),\n",
              " (52250, 2),\n",
              " (93750, 2),\n",
              " (52900, 2),\n",
              " (12350, 2),\n",
              " (55500, 2),\n",
              " (1400000, 2),\n",
              " (61450, 2),\n",
              " (233000, 2),\n",
              " (199999, 2),\n",
              " (107500, 2),\n",
              " (630000, 2),\n",
              " (174000, 2),\n",
              " (95500, 2),\n",
              " (12870, 2),\n",
              " (199500, 2),\n",
              " (86500, 2),\n",
              " (739000, 2),\n",
              " (50400, 2),\n",
              " (620000, 2),\n",
              " (53400, 2),\n",
              " (660000, 2),\n",
              " (1350000, 2),\n",
              " (266000, 2),\n",
              " (369000, 2),\n",
              " (79200, 2),\n",
              " (386000, 2),\n",
              " (67200, 2),\n",
              " (151800, 2),\n",
              " (11125, 2),\n",
              " (4500000, 2),\n",
              " (1666000, 2),\n",
              " (55900, 2),\n",
              " (2100000, 2),\n",
              " (178000, 2),\n",
              " (14875, 2),\n",
              " (14550, 2),\n",
              " (2999000, 2),\n",
              " (69500, 2),\n",
              " (55295, 2),\n",
              " (12688, 2),\n",
              " (12990, 2),\n",
              " (668000, 2),\n",
              " (50200, 2),\n",
              " (395000, 2),\n",
              " (63250, 2),\n",
              " (55555, 2),\n",
              " (14880, 2),\n",
              " (65500, 2),\n",
              " (166000, 2),\n",
              " (14888, 2),\n",
              " (72060, 2),\n",
              " (54500, 2),\n",
              " (54300, 2),\n",
              " (10199, 2),\n",
              " (50500, 2),\n",
              " (211000, 2),\n",
              " (7900000, 2),\n",
              " (127000, 2),\n",
              " (132000, 2),\n",
              " (154000, 2),\n",
              " (460000, 1),\n",
              " (81500, 1),\n",
              " (745000, 1),\n",
              " (11429, 1),\n",
              " (168888, 1),\n",
              " (96600, 1),\n",
              " (4667000, 1),\n",
              " (149500, 1),\n",
              " (366000, 1),\n",
              " (695500, 1),\n",
              " (356000, 1),\n",
              " (14160, 1),\n",
              " (11199, 1),\n",
              " (485000, 1),\n",
              " (109960, 1),\n",
              " (171000, 1),\n",
              " (11016, 1),\n",
              " (52942, 1),\n",
              " (84500, 1),\n",
              " (90700, 1),\n",
              " (56100, 1),\n",
              " (60800, 1),\n",
              " (1072510, 1),\n",
              " (66060, 1),\n",
              " (139999, 1),\n",
              " (341000, 1),\n",
              " (11000000, 1),\n",
              " (519500, 1),\n",
              " (89040, 1),\n",
              " (10660, 1),\n",
              " (8000000, 1),\n",
              " (670000, 1),\n",
              " (136620, 1),\n",
              " (1579000, 1),\n",
              " (699999, 1),\n",
              " (139800, 1),\n",
              " (74800, 1),\n",
              " (2122000, 1),\n",
              " (146000, 1),\n",
              " (253000, 1),\n",
              " (79500, 1),\n",
              " (50100, 1),\n",
              " (82600, 1),\n",
              " (11885, 1),\n",
              " (116250, 1),\n",
              " (720000, 1),\n",
              " (12150, 1),\n",
              " (78600, 1),\n",
              " (11980, 1),\n",
              " (45000000, 1),\n",
              " (334000, 1),\n",
              " (101100, 1),\n",
              " (236000, 1),\n",
              " (204000, 1),\n",
              " (833000, 1),\n",
              " (68100, 1),\n",
              " (15500000, 1),\n",
              " (14250, 1),\n",
              " (6900000, 1),\n",
              " (1111000, 1),\n",
              " (68999, 1),\n",
              " (14520, 1),\n",
              " (72500, 1),\n",
              " (68236, 1),\n",
              " (12030, 1),\n",
              " (131000, 1),\n",
              " (83500, 1),\n",
              " (316000, 1),\n",
              " (570000, 1),\n",
              " (12920, 1),\n",
              " (1939999, 1),\n",
              " (83950, 1),\n",
              " (220, 1),\n",
              " (148200, 1),\n",
              " (869000, 1),\n",
              " (12190, 1),\n",
              " (110900, 1),\n",
              " (626000, 1),\n",
              " (868868, 1),\n",
              " (125800, 1),\n",
              " (192000, 1),\n",
              " (13880, 1),\n",
              " (11570, 1),\n",
              " (11385, 1),\n",
              " (1399000, 1),\n",
              " (57140, 1),\n",
              " (438000, 1),\n",
              " (67300, 1),\n",
              " (735000, 1),\n",
              " (980000, 1),\n",
              " (5500000, 1),\n",
              " (321000, 1),\n",
              " (56800, 1),\n",
              " (525000, 1),\n",
              " (138800, 1),\n",
              " (267000, 1),\n",
              " (339500, 1),\n",
              " (60500, 1),\n",
              " (52800, 1),\n",
              " (85800, 1),\n",
              " (780000, 1),\n",
              " (619000, 1),\n",
              " (60300, 1),\n",
              " (11970, 1),\n",
              " (88999, 1),\n",
              " (588000, 1),\n",
              " (13160, 1),\n",
              " (13810, 1),\n",
              " (13890, 1),\n",
              " (66050, 1),\n",
              " (312500, 1),\n",
              " (68350, 1),\n",
              " (1355000, 1),\n",
              " (216000, 1),\n",
              " (79900, 1),\n",
              " (69999, 1),\n",
              " (254600, 1),\n",
              " (106250, 1),\n",
              " (14065, 1),\n",
              " (699900, 1),\n",
              " (530000, 1),\n",
              " (10680, 1),\n",
              " (13560, 1),\n",
              " (6666000, 1),\n",
              " (1230000, 1),\n",
              " (12000000, 1),\n",
              " (65100, 1),\n",
              " (168000000, 1),\n",
              " (49000000, 1),\n",
              " (1455000, 1),\n",
              " (147000, 1),\n",
              " (450200, 1),\n",
              " (1199000, 1),\n",
              " (61880, 1),\n",
              " (55700, 1),\n",
              " (219000, 1),\n",
              " (273000, 1),\n",
              " (868000, 1),\n",
              " (292000, 1),\n",
              " (14669, 1),\n",
              " (91500, 1),\n",
              " (51764, 1),\n",
              " (60720, 1),\n",
              " (80300, 1),\n",
              " (10122, 1),\n",
              " (2200000, 1),\n",
              " (1333333, 1),\n",
              " (3344000, 1),\n",
              " (319000, 1),\n",
              " (15690000, 1),\n",
              " (635000, 1),\n",
              " (6160000, 1),\n",
              " (702500, 1),\n",
              " (90250, 1),\n",
              " (11699, 1),\n",
              " (489000, 1),\n",
              " (370000, 1),\n",
              " (54117, 1),\n",
              " (13310, 1),\n",
              " (55000000, 1),\n",
              " (59999, 1),\n",
              " (1250000, 1),\n",
              " (89999, 1),\n",
              " (159999, 1),\n",
              " (136500, 1),\n",
              " (54600, 1),\n",
              " (11480, 1),\n",
              " (177900, 1),\n",
              " (919000, 1),\n",
              " (82200, 1),\n",
              " (94117, 1),\n",
              " (51250, 1),\n",
              " (143750, 1),\n",
              " (64300, 1),\n",
              " (71250, 1),\n",
              " (1677000, 1),\n",
              " (352000, 1),\n",
              " (13680, 1),\n",
              " (54060, 1),\n",
              " (68250, 1),\n",
              " (276000, 1),\n",
              " (10275, 1),\n",
              " (199960, 1),\n",
              " (51765, 1),\n",
              " (1600000, 1),\n",
              " (69750, 1),\n",
              " (52825, 1),\n",
              " (102222, 1),\n",
              " (424000, 1),\n",
              " (80100, 1),\n",
              " (130500, 1),\n",
              " (13689, 1),\n",
              " (415000, 1),\n",
              " (10166, 1),\n",
              " (136200, 1),\n",
              " (11040, 1),\n",
              " (6600000, 1),\n",
              " (1168000, 1),\n",
              " (57100, 1),\n",
              " (137777, 1),\n",
              " (2400000, 1),\n",
              " (5100000, 1),\n",
              " (10810, 1),\n",
              " (482000, 1),\n",
              " (176700, 1),\n",
              " (175750, 1),\n",
              " (2900000, 1),\n",
              " (3000000, 1),\n",
              " (10960, 1),\n",
              " (54900, 1),\n",
              " (128700, 1),\n",
              " (56500, 1),\n",
              " (88600, 1),\n",
              " (399990, 1),\n",
              " (999999, 1),\n",
              " (131250, 1),\n",
              " (221000, 1),\n",
              " (10790, 1),\n",
              " (56789, 1),\n",
              " (55350, 1),\n",
              " (88880, 1),\n",
              " (269500, 1),\n",
              " (363000, 1),\n",
              " (11168, 1),\n",
              " (218500, 1),\n",
              " (238000, 1),\n",
              " (1105000, 1),\n",
              " (468500, 1),\n",
              " (131500, 1),\n",
              " (122500, 1),\n",
              " (325000, 1),\n",
              " (10340, 1),\n",
              " (8900000, 1),\n",
              " (122400, 1),\n",
              " (18000000, 1),\n",
              " (6500000, 1),\n",
              " (64900, 1),\n",
              " (2666666, 1),\n",
              " (50160, 1),\n",
              " (506000, 1),\n",
              " (61260, 1),\n",
              " (181000, 1),\n",
              " (789000, 1),\n",
              " (14670, 1),\n",
              " (97500, 1),\n",
              " (20500000, 1),\n",
              " (1430000, 1),\n",
              " (2950000, 1),\n",
              " (2223000, 1),\n",
              " (64705, 1),\n",
              " (12110, 1),\n",
              " (6800000, 1),\n",
              " (1750000, 1),\n",
              " (1150000, 1),\n",
              " (29000000, 1),\n",
              " (71800, 1),\n",
              " (156900, 1),\n",
              " (168750, 1),\n",
              " (124000, 1),\n",
              " (1950000, 1),\n",
              " (2712000, 1),\n",
              " (214000, 1),\n",
              " (12590, 1),\n",
              " (50669, 1),\n",
              " (1890000, 1),\n",
              " (480200, 1),\n",
              " (339999, 1),\n",
              " (470000, 1),\n",
              " (108790, 1),\n",
              " (75250, 1),\n",
              " (114000, 1),\n",
              " (132750, 1),\n",
              " (14040, 1),\n",
              " (689000, 1),\n",
              " (89800, 1),\n",
              " (229500, 1),\n",
              " (10230, 1),\n",
              " (2000000, 1),\n",
              " (95950, 1),\n",
              " (175500, 1),\n",
              " (155600, 1),\n",
              " (11240, 1),\n",
              " (666666, 1),\n",
              " (87900, 1),\n",
              " (57648, 1),\n",
              " (58800, 1),\n",
              " (228750, 1),\n",
              " (84705, 1),\n",
              " (634000, 1),\n",
              " (2600000, 1),\n",
              " (13399, 1),\n",
              " (79100, 1),\n",
              " (12188, 1),\n",
              " (11960, 1),\n",
              " (14850, 1),\n",
              " (886000, 1),\n",
              " (12888, 1),\n",
              " (10687, 1),\n",
              " (59725, 1),\n",
              " (59850, 1),\n",
              " (12390, 1),\n",
              " (157000, 1),\n",
              " (163000, 1),\n",
              " (187000, 1),\n",
              " (650200, 1),\n",
              " (690000, 1),\n",
              " (114350, 1),\n",
              " (83490, 1),\n",
              " (198300, 1),\n",
              " (589000, 1),\n",
              " (385000, 1),\n",
              " (168500, 1),\n",
              " (59960, 1),\n",
              " (72600, 1),\n",
              " (56949, 1),\n",
              " (1867000, 1),\n",
              " (77500, 1),\n",
              " (418000, 1),\n",
              " (129600, 1),\n",
              " (13499, 1),\n",
              " (586000, 1),\n",
              " (227000, 1),\n",
              " (98823, 1),\n",
              " (1868000, 1),\n",
              " (278000, 1),\n",
              " (123500, 1),\n",
              " (29900000, 1),\n",
              " (125850, 1),\n",
              " (477000, 1),\n",
              " (11425, 1),\n",
              " (167000, 1),\n",
              " (89888, 1),\n",
              " (166250, 1),\n",
              " (868400, 1),\n",
              " (54100, 1),\n",
              " (68750, 1),\n",
              " (150500, 1),\n",
              " (174570, 1),\n",
              " (639000, 1),\n",
              " (268800, 1),\n",
              " (10080, 1),\n",
              " (1368000, 1),\n",
              " (11830, 1),\n",
              " (719500, 1),\n",
              " (1050000, 1),\n",
              " (160350, 1),\n",
              " (12475, 1),\n",
              " (10780, 1),\n",
              " (79960, 1),\n",
              " (22000000, 1),\n",
              " (11690, 1),\n",
              " (71500, 1),\n",
              " (56760, 1),\n",
              " (398000, 1),\n",
              " (429000, 1),\n",
              " (10388, 1),\n",
              " (11650, 1),\n",
              " (11195, 1),\n",
              " (95200, 1),\n",
              " (11440, 1),\n",
              " (92990, 1),\n",
              " (1167000, 1),\n",
              " (14688, 1),\n",
              " (165000000, 1),\n",
              " (10980, 1),\n",
              " (14190, 1),\n",
              " (11949, 1),\n",
              " (10950, 1),\n",
              " (11375, 1),\n",
              " (64706, 1),\n",
              " (10610, 1),\n",
              " (535000, 1),\n",
              " (1200300, 1),\n",
              " (10050, 1),\n",
              " (499999, 1),\n",
              " (760000, 1),\n",
              " (1840000, 1),\n",
              " (768000, 1),\n",
              " (315500, 1),\n",
              " (12980, 1),\n",
              " (345100, 1),\n",
              " (12450, 1),\n",
              " (675000, 1),\n",
              " (2300000, 1),\n",
              " (99500, 1),\n",
              " (469500, 1),\n",
              " (10045, 1),\n",
              " (1550000, 1),\n",
              " (388800, 1),\n",
              " (444444, 1),\n",
              " (152000, 1),\n",
              " (990000, 1),\n",
              " (86880, 1),\n",
              " (285000, 1),\n",
              " (140800, 1),\n",
              " (468800, 1),\n",
              " (102700, 1),\n",
              " (622000, 1),\n",
              " (234000, 1),\n",
              " (184000, 1),\n",
              " (10480, 1),\n",
              " (12699, 1),\n",
              " (14699, 1),\n",
              " (4568000, 1),\n",
              " (14283, 1),\n",
              " (51500, 1),\n",
              " (134000, 1),\n",
              " (82800, 1),\n",
              " (146666, 1),\n",
              " (94500, 1),\n",
              " (368800, 1),\n",
              " (825000, 1),\n",
              " (65780, 1),\n",
              " (57500, 1),\n",
              " (56699, 1),\n",
              " (110100, 1),\n",
              " (70500, 1),\n",
              " (156250, 1),\n",
              " (86900, 1),\n",
              " (161000, 1),\n",
              " (81400, 1),\n",
              " (375000, 1),\n",
              " (76700, 1),\n",
              " (11688, 1),\n",
              " (539000, 1),\n",
              " (369500, 1),\n",
              " (201600, 1),\n",
              " (59400, 1),\n",
              " (10270, 1),\n",
              " (498000, 1),\n",
              " (1112000, 1),\n",
              " (439000, 1)]"
            ]
          },
          "metadata": {},
          "execution_count": 32
        }
      ],
      "source": [
        "from collections import Counter\n",
        "w = Counter(df['price_vnd'])\n",
        "w.most_common()"
      ]
    },
    {
      "cell_type": "code",
      "execution_count": null,
      "metadata": {
        "id": "kAjZod8sIiWk"
      },
      "outputs": [],
      "source": [
        "sorted(w.items())"
      ]
    },
    {
      "cell_type": "code",
      "execution_count": null,
      "metadata": {
        "colab": {
          "base_uri": "https://localhost:8080/"
        },
        "id": "aYliIg4An4KU",
        "outputId": "38681da8-4d10-443c-e307-de1bacd2c8e1"
      },
      "outputs": [
        {
          "data": {
            "text/plain": [
              "price_vnd     6139\n",
              "sim_number    6139\n",
              "label         6139\n",
              "dtype: int64"
            ]
          },
          "execution_count": 16,
          "metadata": {},
          "output_type": "execute_result"
        }
      ],
      "source": [
        "df[df['price_vnd'] <= 10000].count() - df[df['price_vnd'] < 10000].count()"
      ]
    },
    {
      "cell_type": "code",
      "execution_count": null,
      "metadata": {
        "colab": {
          "base_uri": "https://localhost:8080/"
        },
        "id": "YCnM4FAdoky0",
        "outputId": "dcde66a5-f150-43c7-f379-4c916f7a8d08"
      },
      "outputs": [
        {
          "data": {
            "text/plain": [
              "price_vnd     76162\n",
              "sim_number    76162\n",
              "label         76162\n",
              "dtype: int64"
            ]
          },
          "execution_count": 18,
          "metadata": {},
          "output_type": "execute_result"
        }
      ],
      "source": [
        "df[df['price_vnd'] <= 500].count()"
      ]
    },
    {
      "cell_type": "code",
      "execution_count": null,
      "metadata": {
        "colab": {
          "base_uri": "https://localhost:8080/"
        },
        "id": "gXew6csmvcr7",
        "outputId": "0a1021ab-6065-4e54-cfcf-edb35cbbc398"
      },
      "outputs": [
        {
          "data": {
            "text/plain": [
              "price_vnd     38472\n",
              "sim_number    38472\n",
              "label         38472\n",
              "dtype: int64"
            ]
          },
          "execution_count": 14,
          "metadata": {},
          "output_type": "execute_result"
        }
      ],
      "source": [
        "df[df['price_vnd'] <= 1000].count() - df[df['price_vnd'] <= 500].count()"
      ]
    },
    {
      "cell_type": "code",
      "execution_count": null,
      "metadata": {
        "colab": {
          "base_uri": "https://localhost:8080/"
        },
        "id": "KhzPDg8Ms7lk",
        "outputId": "e5b82a06-4808-4800-baa1-cede5f803dea"
      },
      "outputs": [
        {
          "data": {
            "text/plain": [
              "price_vnd     29199\n",
              "sim_number    29199\n",
              "label         29199\n",
              "dtype: int64"
            ]
          },
          "execution_count": 15,
          "metadata": {},
          "output_type": "execute_result"
        }
      ],
      "source": [
        "df[df['price_vnd'] <= 3000].count() - df[df['price_vnd'] <= 1000].count()"
      ]
    },
    {
      "cell_type": "code",
      "execution_count": null,
      "metadata": {
        "colab": {
          "base_uri": "https://localhost:8080/"
        },
        "id": "I8n_iEtHvd5C",
        "outputId": "fc11704c-97ca-4074-86fc-f04311099021"
      },
      "outputs": [
        {
          "data": {
            "text/plain": [
              "price_vnd     21383\n",
              "sim_number    21383\n",
              "label         21383\n",
              "dtype: int64"
            ]
          },
          "execution_count": 17,
          "metadata": {},
          "output_type": "execute_result"
        }
      ],
      "source": [
        "df[df['price_vnd'] <= 5000].count() - df[df['price_vnd'] <= 3000].count()"
      ]
    },
    {
      "cell_type": "code",
      "execution_count": null,
      "metadata": {
        "colab": {
          "base_uri": "https://localhost:8080/"
        },
        "id": "xU2pngo_jL-R",
        "outputId": "77afbb7f-29a0-413c-bded-4d3614d5b595"
      },
      "outputs": [
        {
          "data": {
            "text/plain": [
              "price_vnd     6139\n",
              "sim_number    6139\n",
              "label         6139\n",
              "dtype: int64"
            ]
          },
          "execution_count": 18,
          "metadata": {},
          "output_type": "execute_result"
        }
      ],
      "source": [
        "df[df['price_vnd'] <= 10000].count() - df[df['price_vnd'] <= 5000].count()"
      ]
    },
    {
      "cell_type": "code",
      "execution_count": null,
      "metadata": {
        "colab": {
          "base_uri": "https://localhost:8080/"
        },
        "id": "MPQsUHXBvea5",
        "outputId": "077e39e2-0a7d-4629-e01d-11257ac61d88"
      },
      "outputs": [
        {
          "data": {
            "text/plain": [
              "price_vnd     19891\n",
              "sim_number    19891\n",
              "label         19891\n",
              "dtype: int64"
            ]
          },
          "execution_count": 24,
          "metadata": {},
          "output_type": "execute_result"
        }
      ],
      "source": [
        "df[df['price_vnd'] <= 30000].count() - df[df['price_vnd'] <= 10000].count()"
      ]
    },
    {
      "cell_type": "code",
      "execution_count": null,
      "metadata": {
        "colab": {
          "base_uri": "https://localhost:8080/"
        },
        "id": "IR_TmMfXjftz",
        "outputId": "bc7e16c2-693f-4d87-c667-c059fdb0e829"
      },
      "outputs": [
        {
          "data": {
            "text/plain": [
              "price_vnd     5579\n",
              "sim_number    5579\n",
              "label         5579\n",
              "dtype: int64"
            ]
          },
          "execution_count": 21,
          "metadata": {},
          "output_type": "execute_result"
        }
      ],
      "source": [
        "df[df['price_vnd'] <= 100000].count() - df[df['price_vnd'] <= 30000].count()"
      ]
    },
    {
      "cell_type": "code",
      "execution_count": null,
      "metadata": {
        "colab": {
          "base_uri": "https://localhost:8080/"
        },
        "id": "d-ege1hOv3mN",
        "outputId": "fa942f74-d372-4302-eb07-940ed9657146"
      },
      "outputs": [
        {
          "data": {
            "text/plain": [
              "price_vnd     3175\n",
              "sim_number    3175\n",
              "label         3175\n",
              "dtype: int64"
            ]
          },
          "execution_count": 22,
          "metadata": {},
          "output_type": "execute_result"
        }
      ],
      "source": [
        "df[df['price_vnd'] > 100000].count()"
      ]
    },
    {
      "cell_type": "code",
      "execution_count": null,
      "metadata": {
        "id": "G4fzkxXfsvUr"
      },
      "outputs": [],
      "source": [
        "# y = df['price_vnd']\n",
        "# X = df.loc[:, df.columns != 'sim_number']\n",
        "\n",
        "# from sklearn.model_selection import train_test_split\n",
        "# X_train, X_test, y_train, y_test = train_test_split(X, y, test_size=0.2, random_state=42)"
      ]
    },
    {
      "cell_type": "code",
      "execution_count": null,
      "metadata": {
        "id": "4QAv3qZLw9lV"
      },
      "outputs": [],
      "source": [
        "import numpy as np\n",
        "\n",
        "X = []\n",
        "for i in df['sim_number']:\n",
        "  b = np.zeros(shape=(9, 10))\n",
        "  de = 0\n",
        "  for p in i: \n",
        "    a = np.zeros(shape=(10))\n",
        "    a[int(p)] = 1\n",
        "    b[de] = a \n",
        "    de += 1\n",
        "  X.append(b)"
      ]
    },
    {
      "cell_type": "code",
      "execution_count": null,
      "metadata": {
        "id": "OE4w9MYfJou1"
      },
      "outputs": [],
      "source": [
        "X = np.array(X)"
      ]
    },
    {
      "cell_type": "code",
      "execution_count": null,
      "metadata": {
        "id": "A8NYA-hjJwJI"
      },
      "outputs": [],
      "source": [
        "from sklearn.preprocessing import StandardScaler\n",
        "y = df['price_vnd']\n",
        "y = np.array(y)\n",
        "# sc_y = StandardScaler()\n",
        "# y = sc_y.fit_transform(y.values.reshape(-1, 1))"
      ]
    },
    {
      "cell_type": "code",
      "execution_count": null,
      "metadata": {
        "id": "vcizY4a0KKM4"
      },
      "outputs": [],
      "source": [
        "from sklearn.model_selection import train_test_split\n",
        "X_train, X_test, y_train, y_test = train_test_split(X, y, test_size=0.2, random_state=42)"
      ]
    },
    {
      "cell_type": "code",
      "execution_count": null,
      "metadata": {
        "id": "k2qQCWd1NN5M"
      },
      "outputs": [],
      "source": [
        "y_train = np.concatenate(y_train)\n",
        "y_test = np.concatenate(y_test)"
      ]
    },
    {
      "cell_type": "code",
      "execution_count": null,
      "metadata": {
        "colab": {
          "base_uri": "https://localhost:8080/"
        },
        "id": "G3_-aaLKKbMe",
        "outputId": "4b41aeb5-4d73-4159-b442-bcb686f6577f"
      },
      "outputs": [
        {
          "name": "stdout",
          "output_type": "stream",
          "text": [
            "(40000, 9, 10) (160000,)\n"
          ]
        }
      ],
      "source": [
        "print(X_test.shape, y_train.shape)"
      ]
    },
    {
      "cell_type": "code",
      "execution_count": null,
      "metadata": {
        "id": "4bRSKIQLKtl4"
      },
      "outputs": [],
      "source": [
        "X_train = X_train.reshape(160000,9,10,1)\n",
        "X_test = X_test.reshape(40000,9,10,1)"
      ]
    },
    {
      "cell_type": "code",
      "execution_count": null,
      "metadata": {
        "id": "yrrSAAIDKdn0"
      },
      "outputs": [],
      "source": [
        "from keras.models import Sequential\n",
        "from keras.layers import Dense, Conv2D, Flatten\n",
        "from tensorflow.keras.optimizers import Adam\n",
        "\n",
        "model = Sequential()\n",
        "\n",
        "#add model layers\n",
        "model.add(Conv2D(8, kernel_size=3, activation='relu', input_shape=(9,10,1)))\n",
        "model.add(Conv2D(4, kernel_size=3, activation='relu'))\n",
        "model.add(Flatten())\n",
        "model.add(Dense(1, activation='linear'))\n",
        "model.compile(loss='mse', \n",
        "    optimizer=Adam(learning_rate=0.1), \n",
        "    metrics='mse')"
      ]
    },
    {
      "cell_type": "code",
      "execution_count": null,
      "metadata": {
        "colab": {
          "base_uri": "https://localhost:8080/"
        },
        "id": "W22Eo2kcL4UG",
        "outputId": "96374555-d9d1-49be-d160-10cfc7bf713e"
      },
      "outputs": [
        {
          "name": "stdout",
          "output_type": "stream",
          "text": [
            "Epoch 1/2\n",
            "5000/5000 [==============================] - 17s 3ms/step - loss: 257921066821746688.0000 - mse: 257921066821746688.0000 - val_loss: 716053442895806464.0000 - val_mse: 716053442895806464.0000\n",
            "Epoch 2/2\n",
            "5000/5000 [==============================] - 17s 3ms/step - loss: 257844925641523200.0000 - mse: 257844925641523200.0000 - val_loss: 716014272794066944.0000 - val_mse: 716014272794066944.0000\n"
          ]
        },
        {
          "data": {
            "text/plain": [
              "<keras.callbacks.History at 0x7f958bfbcf10>"
            ]
          },
          "execution_count": 17,
          "metadata": {},
          "output_type": "execute_result"
        }
      ],
      "source": [
        "model.fit(X_train, y_train,validation_data=(X_test, y_test), epochs=2)"
      ]
    },
    {
      "cell_type": "code",
      "execution_count": null,
      "metadata": {
        "colab": {
          "base_uri": "https://localhost:8080/"
        },
        "id": "tkAuBsO7ML1P",
        "outputId": "e9e76869-4f01-49dc-bed8-b03e3e939bce"
      },
      "outputs": [
        {
          "name": "stdout",
          "output_type": "stream",
          "text": [
            "1/1 [==============================] - 0s 104ms/step\n"
          ]
        },
        {
          "data": {
            "text/plain": [
              "array([[-432813.56]], dtype=float32)"
            ]
          },
          "execution_count": 23,
          "metadata": {},
          "output_type": "execute_result"
        }
      ],
      "source": [
        "yhat = model.predict(X_test[64].reshape(1,9,10,1))\n",
        "yhat"
      ]
    },
    {
      "cell_type": "code",
      "execution_count": null,
      "metadata": {
        "colab": {
          "base_uri": "https://localhost:8080/"
        },
        "id": "MlkQJKTCP2nG",
        "outputId": "03b39e1c-b65f-4511-a238-de75a0228a3a"
      },
      "outputs": [
        {
          "data": {
            "text/plain": [
              "array([[-432813.56]], dtype=float32)"
            ]
          },
          "execution_count": 22,
          "metadata": {},
          "output_type": "execute_result"
        }
      ],
      "source": [
        "yhat"
      ]
    },
    {
      "cell_type": "code",
      "execution_count": null,
      "metadata": {
        "colab": {
          "base_uri": "https://localhost:8080/"
        },
        "id": "M6gyUw-iMu6J",
        "outputId": "f481e1af-2d46-4bed-de21-73832732a97b"
      },
      "outputs": [
        {
          "data": {
            "text/plain": [
              "array([4329.08], dtype=float32)"
            ]
          },
          "execution_count": 142,
          "metadata": {},
          "output_type": "execute_result"
        }
      ],
      "source": [
        "a = sc_y.inverse_transform(yhat.reshape(-1, 1))\n",
        "a = a.ravel()\n",
        "a"
      ]
    },
    {
      "cell_type": "code",
      "execution_count": null,
      "metadata": {
        "colab": {
          "base_uri": "https://localhost:8080/"
        },
        "id": "hmC56uoLP_jb",
        "outputId": "5ad25d07-ff1b-46fb-f8f4-b7b1eb48f23c"
      },
      "outputs": [
        {
          "data": {
            "text/plain": [
              "450000"
            ]
          },
          "execution_count": 24,
          "metadata": {},
          "output_type": "execute_result"
        }
      ],
      "source": [
        "y_test[64]"
      ]
    },
    {
      "cell_type": "code",
      "execution_count": null,
      "metadata": {
        "colab": {
          "base_uri": "https://localhost:8080/"
        },
        "id": "QY3t0rvTPkHF",
        "outputId": "ebaffa31-e645-4fe3-99a3-a47172dfe5cf"
      },
      "outputs": [
        {
          "data": {
            "text/plain": [
              "array([450.])"
            ]
          },
          "execution_count": 144,
          "metadata": {},
          "output_type": "execute_result"
        }
      ],
      "source": [
        " sc_y.inverse_transform(y_test[1265].reshape(-1, 1)).ravel()"
      ]
    },
    {
      "cell_type": "code",
      "execution_count": null,
      "metadata": {
        "id": "eEJw7APSpiek"
      },
      "outputs": [],
      "source": [
        "from keras.layers import Dense, Flatten\n",
        "from keras.models import Sequential\n",
        "from keras import metrics \n",
        "from tensorflow.keras.optimizers import Adam\n",
        "# 2. buid model \n",
        "model = Sequential()\n",
        "model.add(Flatten(input_shape=(9, 10)))\n",
        "model.add(Dense(16, activation='relu'))\n",
        "model.add(Dense(32, activation='relu'))\n",
        "model.add(Dense(64, activation='relu'))\n",
        "model.add(Dense(1, input_shape = (1,), activation='linear'))\n",
        "\n",
        "# 3. loss, metrics \n",
        "model.compile(loss='mse', \n",
        "    optimizer=Adam(learning_rate=0.1), \n",
        "    metrics='mse')"
      ]
    },
    {
      "cell_type": "code",
      "execution_count": null,
      "metadata": {
        "colab": {
          "base_uri": "https://localhost:8080/"
        },
        "id": "fk_VFCTaqRIm",
        "outputId": "98380941-3f35-472b-dc5f-62d598b62941"
      },
      "outputs": [
        {
          "name": "stdout",
          "output_type": "stream",
          "text": [
            "Epoch 1/5\n",
            "5000/5000 [==============================] - 18s 3ms/step - loss: 256824630390554624.0000 - mse: 256824630390554624.0000 - val_loss: 715705378746138624.0000 - val_mse: 715705378746138624.0000\n",
            "Epoch 2/5\n",
            "5000/5000 [==============================] - 13s 3ms/step - loss: 252021465384222720.0000 - mse: 252021465384222720.0000 - val_loss: 716144702360911872.0000 - val_mse: 716144702360911872.0000\n",
            "Epoch 3/5\n",
            "5000/5000 [==============================] - 13s 3ms/step - loss: 245756104531771392.0000 - mse: 245756104531771392.0000 - val_loss: 717791976937750528.0000 - val_mse: 717791976937750528.0000\n",
            "Epoch 4/5\n",
            "5000/5000 [==============================] - 14s 3ms/step - loss: 238751373649248256.0000 - mse: 238751373649248256.0000 - val_loss: 718781125085888512.0000 - val_mse: 718781125085888512.0000\n",
            "Epoch 5/5\n",
            "5000/5000 [==============================] - 13s 3ms/step - loss: 227414360794857472.0000 - mse: 227414360794857472.0000 - val_loss: 720070646066839552.0000 - val_mse: 720070646066839552.0000\n"
          ]
        },
        {
          "data": {
            "text/plain": [
              "<keras.callbacks.History at 0x7f04e06e0110>"
            ]
          },
          "execution_count": 9,
          "metadata": {},
          "output_type": "execute_result"
        }
      ],
      "source": [
        "model.fit(X_train, y_train,validation_data=(X_test, y_test), epochs=5)"
      ]
    },
    {
      "cell_type": "code",
      "execution_count": null,
      "metadata": {
        "colab": {
          "base_uri": "https://localhost:8080/"
        },
        "id": "cEBK8SENpili",
        "outputId": "4959e864-702c-4e95-df01-57b40b9e2716"
      },
      "outputs": [
        {
          "name": "stdout",
          "output_type": "stream",
          "text": [
            "1/1 [==============================] - 0s 161ms/step\n"
          ]
        },
        {
          "data": {
            "text/plain": [
              "array([[8939599.]], dtype=float32)"
            ]
          },
          "execution_count": 13,
          "metadata": {},
          "output_type": "execute_result"
        }
      ],
      "source": [
        "model.predict(X_test[64].reshape(1,9,10))"
      ]
    },
    {
      "cell_type": "code",
      "execution_count": null,
      "metadata": {
        "id": "wfduszOKQm6j"
      },
      "outputs": [],
      "source": [
        "from tensorflow import keras\n",
        "from tensorflow.keras import layers\n",
        "batch_size = 16\n",
        "# Each MNIST image batch is a tensor of shape (batch_size, 28, 28).\n",
        "# Each input sequence will be of size (28, 28) (height is treated like time).\n",
        "input_dim = 10\n",
        "\n",
        "units = 16\n",
        "output_size = 10  # labels are from 0 to 9\n",
        "\n",
        "# Build the RNN model\n",
        "def build_model(allow_cudnn_kernel=True):\n",
        "    # CuDNN is only available at the layer level, and not at the cell level.\n",
        "    # This means `LSTM(units)` will use the CuDNN kernel,\n",
        "    # while RNN(LSTMCell(units)) will run on non-CuDNN kernel.\n",
        "    if allow_cudnn_kernel:\n",
        "        # The LSTM layer with default options uses CuDNN.\n",
        "        lstm_layer = keras.layers.LSTM(units, input_shape=(None, input_dim))\n",
        "    else:\n",
        "        # Wrapping a LSTMCell in a RNN layer will not use CuDNN.\n",
        "        lstm_layer = keras.layers.RNN(\n",
        "            keras.layers.LSTMCell(units), input_shape=(None, input_dim)\n",
        "        )\n",
        "    model = keras.models.Sequential(\n",
        "        [\n",
        "            lstm_layer,\n",
        "            keras.layers.BatchNormalization(),\n",
        "            keras.layers.Dense(1, activation='linear'),\n",
        "         \n",
        "        ]\n",
        "    )\n",
        "    return model\n"
      ]
    },
    {
      "cell_type": "code",
      "execution_count": null,
      "metadata": {
        "colab": {
          "base_uri": "https://localhost:8080/"
        },
        "id": "1cfQTTpFQm8q",
        "outputId": "8f4b844e-bdda-4c87-bb8d-507fc0868cb5"
      },
      "outputs": [
        {
          "name": "stdout",
          "output_type": "stream",
          "text": [
            "Epoch 1/2\n",
            "5000/5000 [==============================] - 26s 5ms/step - loss: 258170655961251840.0000 - mse: 258170655961251840.0000 - val_loss: 716423565997506560.0000 - val_mse: 716423565997506560.0000\n",
            "Epoch 2/2\n",
            "5000/5000 [==============================] - 25s 5ms/step - loss: 258155331517939712.0000 - mse: 258155331517939712.0000 - val_loss: 716409615943729152.0000 - val_mse: 716409615943729152.0000\n"
          ]
        },
        {
          "data": {
            "text/plain": [
              "<keras.callbacks.History at 0x7f7b8553a510>"
            ]
          },
          "execution_count": 15,
          "metadata": {},
          "output_type": "execute_result"
        }
      ],
      "source": [
        "from tensorflow.keras.optimizers import Adam\n",
        "model = build_model(allow_cudnn_kernel=False)\n",
        "\n",
        "model.compile(loss='mse', \n",
        "    optimizer=Adam(learning_rate=0.1), \n",
        "    metrics='mse')\n",
        "\n",
        "\n",
        "model.fit(X_train, y_train,validation_data=(X_test, y_test), epochs=2)"
      ]
    },
    {
      "cell_type": "code",
      "execution_count": null,
      "metadata": {
        "colab": {
          "base_uri": "https://localhost:8080/"
        },
        "id": "mF-lZ5JQSxLJ",
        "outputId": "b427d031-e96c-43be-ffec-87e05c3ba3ba"
      },
      "outputs": [
        {
          "data": {
            "text/plain": [
              "(160000, 9, 10)"
            ]
          },
          "execution_count": 13,
          "metadata": {},
          "output_type": "execute_result"
        }
      ],
      "source": [
        "X_train.shape"
      ]
    },
    {
      "cell_type": "markdown",
      "metadata": {
        "id": "ZUG36jiHtTgA"
      },
      "source": [
        "#NewFeature"
      ]
    },
    {
      "cell_type": "code",
      "execution_count": null,
      "metadata": {
        "colab": {
          "base_uri": "https://localhost:8080/",
          "height": 206
        },
        "id": "DebLLNhtQ36J",
        "outputId": "63c1f2c1-c5a6-42d8-bea1-5a639de77d17"
      },
      "outputs": [
        {
          "output_type": "execute_result",
          "data": {
            "text/plain": [
              "   price_vnd sim_number\n",
              "0     450000  343189288\n",
              "1    3000000  888899580\n",
              "2     500000  928960006\n",
              "3    5000000  902438679\n",
              "4     450000  334307889"
            ],
            "text/html": [
              "\n",
              "  <div id=\"df-4578581c-e980-4c37-9e3f-9edda1e213b0\">\n",
              "    <div class=\"colab-df-container\">\n",
              "      <div>\n",
              "<style scoped>\n",
              "    .dataframe tbody tr th:only-of-type {\n",
              "        vertical-align: middle;\n",
              "    }\n",
              "\n",
              "    .dataframe tbody tr th {\n",
              "        vertical-align: top;\n",
              "    }\n",
              "\n",
              "    .dataframe thead th {\n",
              "        text-align: right;\n",
              "    }\n",
              "</style>\n",
              "<table border=\"1\" class=\"dataframe\">\n",
              "  <thead>\n",
              "    <tr style=\"text-align: right;\">\n",
              "      <th></th>\n",
              "      <th>price_vnd</th>\n",
              "      <th>sim_number</th>\n",
              "    </tr>\n",
              "  </thead>\n",
              "  <tbody>\n",
              "    <tr>\n",
              "      <th>0</th>\n",
              "      <td>450000</td>\n",
              "      <td>343189288</td>\n",
              "    </tr>\n",
              "    <tr>\n",
              "      <th>1</th>\n",
              "      <td>3000000</td>\n",
              "      <td>888899580</td>\n",
              "    </tr>\n",
              "    <tr>\n",
              "      <th>2</th>\n",
              "      <td>500000</td>\n",
              "      <td>928960006</td>\n",
              "    </tr>\n",
              "    <tr>\n",
              "      <th>3</th>\n",
              "      <td>5000000</td>\n",
              "      <td>902438679</td>\n",
              "    </tr>\n",
              "    <tr>\n",
              "      <th>4</th>\n",
              "      <td>450000</td>\n",
              "      <td>334307889</td>\n",
              "    </tr>\n",
              "  </tbody>\n",
              "</table>\n",
              "</div>\n",
              "      <button class=\"colab-df-convert\" onclick=\"convertToInteractive('df-4578581c-e980-4c37-9e3f-9edda1e213b0')\"\n",
              "              title=\"Convert this dataframe to an interactive table.\"\n",
              "              style=\"display:none;\">\n",
              "        \n",
              "  <svg xmlns=\"http://www.w3.org/2000/svg\" height=\"24px\"viewBox=\"0 0 24 24\"\n",
              "       width=\"24px\">\n",
              "    <path d=\"M0 0h24v24H0V0z\" fill=\"none\"/>\n",
              "    <path d=\"M18.56 5.44l.94 2.06.94-2.06 2.06-.94-2.06-.94-.94-2.06-.94 2.06-2.06.94zm-11 1L8.5 8.5l.94-2.06 2.06-.94-2.06-.94L8.5 2.5l-.94 2.06-2.06.94zm10 10l.94 2.06.94-2.06 2.06-.94-2.06-.94-.94-2.06-.94 2.06-2.06.94z\"/><path d=\"M17.41 7.96l-1.37-1.37c-.4-.4-.92-.59-1.43-.59-.52 0-1.04.2-1.43.59L10.3 9.45l-7.72 7.72c-.78.78-.78 2.05 0 2.83L4 21.41c.39.39.9.59 1.41.59.51 0 1.02-.2 1.41-.59l7.78-7.78 2.81-2.81c.8-.78.8-2.07 0-2.86zM5.41 20L4 18.59l7.72-7.72 1.47 1.35L5.41 20z\"/>\n",
              "  </svg>\n",
              "      </button>\n",
              "      \n",
              "  <style>\n",
              "    .colab-df-container {\n",
              "      display:flex;\n",
              "      flex-wrap:wrap;\n",
              "      gap: 12px;\n",
              "    }\n",
              "\n",
              "    .colab-df-convert {\n",
              "      background-color: #E8F0FE;\n",
              "      border: none;\n",
              "      border-radius: 50%;\n",
              "      cursor: pointer;\n",
              "      display: none;\n",
              "      fill: #1967D2;\n",
              "      height: 32px;\n",
              "      padding: 0 0 0 0;\n",
              "      width: 32px;\n",
              "    }\n",
              "\n",
              "    .colab-df-convert:hover {\n",
              "      background-color: #E2EBFA;\n",
              "      box-shadow: 0px 1px 2px rgba(60, 64, 67, 0.3), 0px 1px 3px 1px rgba(60, 64, 67, 0.15);\n",
              "      fill: #174EA6;\n",
              "    }\n",
              "\n",
              "    [theme=dark] .colab-df-convert {\n",
              "      background-color: #3B4455;\n",
              "      fill: #D2E3FC;\n",
              "    }\n",
              "\n",
              "    [theme=dark] .colab-df-convert:hover {\n",
              "      background-color: #434B5C;\n",
              "      box-shadow: 0px 1px 3px 1px rgba(0, 0, 0, 0.15);\n",
              "      filter: drop-shadow(0px 1px 2px rgba(0, 0, 0, 0.3));\n",
              "      fill: #FFFFFF;\n",
              "    }\n",
              "  </style>\n",
              "\n",
              "      <script>\n",
              "        const buttonEl =\n",
              "          document.querySelector('#df-4578581c-e980-4c37-9e3f-9edda1e213b0 button.colab-df-convert');\n",
              "        buttonEl.style.display =\n",
              "          google.colab.kernel.accessAllowed ? 'block' : 'none';\n",
              "\n",
              "        async function convertToInteractive(key) {\n",
              "          const element = document.querySelector('#df-4578581c-e980-4c37-9e3f-9edda1e213b0');\n",
              "          const dataTable =\n",
              "            await google.colab.kernel.invokeFunction('convertToInteractive',\n",
              "                                                     [key], {});\n",
              "          if (!dataTable) return;\n",
              "\n",
              "          const docLinkHtml = 'Like what you see? Visit the ' +\n",
              "            '<a target=\"_blank\" href=https://colab.research.google.com/notebooks/data_table.ipynb>data table notebook</a>'\n",
              "            + ' to learn more about interactive tables.';\n",
              "          element.innerHTML = '';\n",
              "          dataTable['output_type'] = 'display_data';\n",
              "          await google.colab.output.renderOutput(dataTable, element);\n",
              "          const docLink = document.createElement('div');\n",
              "          docLink.innerHTML = docLinkHtml;\n",
              "          element.appendChild(docLink);\n",
              "        }\n",
              "      </script>\n",
              "    </div>\n",
              "  </div>\n",
              "  "
            ]
          },
          "metadata": {},
          "execution_count": 2
        }
      ],
      "source": [
        "import pandas\n",
        "import numpy as np\n",
        "\n",
        "df = pandas.read_csv('/content/gdrive/MyDrive/Colab Notebooks/sim/train_dataset.csv')\n",
        "\n",
        "# df['price_vnd']  = df['price_vnd']/1000\n",
        "df['price_vnd'] = df['price_vnd'].astype(int)\n",
        "df['sim_number'] = df['sim_number'].astype(str)\n",
        "df.head()"
      ]
    },
    {
      "cell_type": "code",
      "execution_count": null,
      "metadata": {
        "id": "LuydRUXNtgP7"
      },
      "outputs": [],
      "source": [
        "label = []\n",
        "for i in df['price_vnd']:\n",
        "  if i <= 450000:\n",
        "    label.append(0)\n",
        "  elif i <= 500000:\n",
        "    label.append(1)\n",
        "  elif i <= 1000000:\n",
        "    label.append(2)\n",
        "  elif i <= 3000000:\n",
        "    label.append(3)\n",
        "  elif i <= 5000000:\n",
        "    label.append(4)\n",
        "  elif i <= 15000000:\n",
        "    label.append(5)\n",
        "  else:\n",
        "    label.append(6)"
      ]
    },
    {
      "cell_type": "code",
      "execution_count": null,
      "metadata": {
        "colab": {
          "base_uri": "https://localhost:8080/"
        },
        "id": "1le7dI7RiHHs",
        "outputId": "7e46102a-8bb1-4320-c436-45186ac4196e"
      },
      "outputs": [
        {
          "data": {
            "text/plain": [
              "Counter({0: 45543, 3: 29199, 1: 30619, 4: 21383, 5: 26030, 6: 8754, 2: 38472})"
            ]
          },
          "execution_count": 7,
          "metadata": {},
          "output_type": "execute_result"
        }
      ],
      "source": [
        "from collections import Counter\n",
        "Counter(label)"
      ]
    },
    {
      "cell_type": "code",
      "execution_count": null,
      "metadata": {
        "colab": {
          "base_uri": "https://localhost:8080/",
          "height": 206
        },
        "id": "Vt-CMEljup5H",
        "outputId": "f8e7855e-333b-428f-9841-125b4e795430"
      },
      "outputs": [
        {
          "output_type": "execute_result",
          "data": {
            "text/plain": [
              "   price_vnd sim_number  class\n",
              "0     450000  343189288      0\n",
              "1    3000000  888899580      3\n",
              "2     500000  928960006      1\n",
              "3    5000000  902438679      4\n",
              "4     450000  334307889      0"
            ],
            "text/html": [
              "\n",
              "  <div id=\"df-5a507936-1905-4629-bed8-bd3567414061\">\n",
              "    <div class=\"colab-df-container\">\n",
              "      <div>\n",
              "<style scoped>\n",
              "    .dataframe tbody tr th:only-of-type {\n",
              "        vertical-align: middle;\n",
              "    }\n",
              "\n",
              "    .dataframe tbody tr th {\n",
              "        vertical-align: top;\n",
              "    }\n",
              "\n",
              "    .dataframe thead th {\n",
              "        text-align: right;\n",
              "    }\n",
              "</style>\n",
              "<table border=\"1\" class=\"dataframe\">\n",
              "  <thead>\n",
              "    <tr style=\"text-align: right;\">\n",
              "      <th></th>\n",
              "      <th>price_vnd</th>\n",
              "      <th>sim_number</th>\n",
              "      <th>class</th>\n",
              "    </tr>\n",
              "  </thead>\n",
              "  <tbody>\n",
              "    <tr>\n",
              "      <th>0</th>\n",
              "      <td>450000</td>\n",
              "      <td>343189288</td>\n",
              "      <td>0</td>\n",
              "    </tr>\n",
              "    <tr>\n",
              "      <th>1</th>\n",
              "      <td>3000000</td>\n",
              "      <td>888899580</td>\n",
              "      <td>3</td>\n",
              "    </tr>\n",
              "    <tr>\n",
              "      <th>2</th>\n",
              "      <td>500000</td>\n",
              "      <td>928960006</td>\n",
              "      <td>1</td>\n",
              "    </tr>\n",
              "    <tr>\n",
              "      <th>3</th>\n",
              "      <td>5000000</td>\n",
              "      <td>902438679</td>\n",
              "      <td>4</td>\n",
              "    </tr>\n",
              "    <tr>\n",
              "      <th>4</th>\n",
              "      <td>450000</td>\n",
              "      <td>334307889</td>\n",
              "      <td>0</td>\n",
              "    </tr>\n",
              "  </tbody>\n",
              "</table>\n",
              "</div>\n",
              "      <button class=\"colab-df-convert\" onclick=\"convertToInteractive('df-5a507936-1905-4629-bed8-bd3567414061')\"\n",
              "              title=\"Convert this dataframe to an interactive table.\"\n",
              "              style=\"display:none;\">\n",
              "        \n",
              "  <svg xmlns=\"http://www.w3.org/2000/svg\" height=\"24px\"viewBox=\"0 0 24 24\"\n",
              "       width=\"24px\">\n",
              "    <path d=\"M0 0h24v24H0V0z\" fill=\"none\"/>\n",
              "    <path d=\"M18.56 5.44l.94 2.06.94-2.06 2.06-.94-2.06-.94-.94-2.06-.94 2.06-2.06.94zm-11 1L8.5 8.5l.94-2.06 2.06-.94-2.06-.94L8.5 2.5l-.94 2.06-2.06.94zm10 10l.94 2.06.94-2.06 2.06-.94-2.06-.94-.94-2.06-.94 2.06-2.06.94z\"/><path d=\"M17.41 7.96l-1.37-1.37c-.4-.4-.92-.59-1.43-.59-.52 0-1.04.2-1.43.59L10.3 9.45l-7.72 7.72c-.78.78-.78 2.05 0 2.83L4 21.41c.39.39.9.59 1.41.59.51 0 1.02-.2 1.41-.59l7.78-7.78 2.81-2.81c.8-.78.8-2.07 0-2.86zM5.41 20L4 18.59l7.72-7.72 1.47 1.35L5.41 20z\"/>\n",
              "  </svg>\n",
              "      </button>\n",
              "      \n",
              "  <style>\n",
              "    .colab-df-container {\n",
              "      display:flex;\n",
              "      flex-wrap:wrap;\n",
              "      gap: 12px;\n",
              "    }\n",
              "\n",
              "    .colab-df-convert {\n",
              "      background-color: #E8F0FE;\n",
              "      border: none;\n",
              "      border-radius: 50%;\n",
              "      cursor: pointer;\n",
              "      display: none;\n",
              "      fill: #1967D2;\n",
              "      height: 32px;\n",
              "      padding: 0 0 0 0;\n",
              "      width: 32px;\n",
              "    }\n",
              "\n",
              "    .colab-df-convert:hover {\n",
              "      background-color: #E2EBFA;\n",
              "      box-shadow: 0px 1px 2px rgba(60, 64, 67, 0.3), 0px 1px 3px 1px rgba(60, 64, 67, 0.15);\n",
              "      fill: #174EA6;\n",
              "    }\n",
              "\n",
              "    [theme=dark] .colab-df-convert {\n",
              "      background-color: #3B4455;\n",
              "      fill: #D2E3FC;\n",
              "    }\n",
              "\n",
              "    [theme=dark] .colab-df-convert:hover {\n",
              "      background-color: #434B5C;\n",
              "      box-shadow: 0px 1px 3px 1px rgba(0, 0, 0, 0.15);\n",
              "      filter: drop-shadow(0px 1px 2px rgba(0, 0, 0, 0.3));\n",
              "      fill: #FFFFFF;\n",
              "    }\n",
              "  </style>\n",
              "\n",
              "      <script>\n",
              "        const buttonEl =\n",
              "          document.querySelector('#df-5a507936-1905-4629-bed8-bd3567414061 button.colab-df-convert');\n",
              "        buttonEl.style.display =\n",
              "          google.colab.kernel.accessAllowed ? 'block' : 'none';\n",
              "\n",
              "        async function convertToInteractive(key) {\n",
              "          const element = document.querySelector('#df-5a507936-1905-4629-bed8-bd3567414061');\n",
              "          const dataTable =\n",
              "            await google.colab.kernel.invokeFunction('convertToInteractive',\n",
              "                                                     [key], {});\n",
              "          if (!dataTable) return;\n",
              "\n",
              "          const docLinkHtml = 'Like what you see? Visit the ' +\n",
              "            '<a target=\"_blank\" href=https://colab.research.google.com/notebooks/data_table.ipynb>data table notebook</a>'\n",
              "            + ' to learn more about interactive tables.';\n",
              "          element.innerHTML = '';\n",
              "          dataTable['output_type'] = 'display_data';\n",
              "          await google.colab.output.renderOutput(dataTable, element);\n",
              "          const docLink = document.createElement('div');\n",
              "          docLink.innerHTML = docLinkHtml;\n",
              "          element.appendChild(docLink);\n",
              "        }\n",
              "      </script>\n",
              "    </div>\n",
              "  </div>\n",
              "  "
            ]
          },
          "metadata": {},
          "execution_count": 4
        }
      ],
      "source": [
        "df['class'] = label\n",
        "df.head()"
      ]
    },
    {
      "cell_type": "code",
      "execution_count": null,
      "metadata": {
        "id": "9Bdj0IzpxOme"
      },
      "outputs": [],
      "source": [
        "import numpy as np\n",
        "\n",
        "X = []\n",
        "for i in df['sim_number']:\n",
        "  b = np.zeros(shape=(9, 10))\n",
        "  de = 0\n",
        "  for p in i: \n",
        "    a = np.zeros(shape=(10))\n",
        "    a[int(p)] = 1\n",
        "    b[de] = a \n",
        "    de += 1\n",
        "  X.append(b)"
      ]
    },
    {
      "cell_type": "code",
      "execution_count": null,
      "metadata": {
        "id": "Axf2IdIGyh37"
      },
      "outputs": [],
      "source": [
        "X = np.array(X)\n",
        "y = df['class']\n",
        "y = np.array(y)\n",
        "from sklearn.model_selection import train_test_split\n",
        "X_train, X_test, y_train, y_test = train_test_split(X, y, test_size=0.2, random_state=42)"
      ]
    },
    {
      "cell_type": "code",
      "source": [
        "X_train"
      ],
      "metadata": {
        "colab": {
          "base_uri": "https://localhost:8080/"
        },
        "id": "SncCYtlWAPLY",
        "outputId": "e5f5f104-0e7e-4a8c-84bd-17ad394ff2ba"
      },
      "execution_count": null,
      "outputs": [
        {
          "output_type": "execute_result",
          "data": {
            "text/plain": [
              "array([[[0., 0., 0., ..., 0., 0., 1.],\n",
              "        [1., 0., 0., ..., 0., 0., 0.],\n",
              "        [0., 0., 0., ..., 0., 1., 0.],\n",
              "        ...,\n",
              "        [0., 0., 0., ..., 0., 0., 1.],\n",
              "        [0., 0., 0., ..., 0., 0., 0.],\n",
              "        [0., 0., 0., ..., 0., 0., 1.]],\n",
              "\n",
              "       [[0., 0., 0., ..., 0., 0., 1.],\n",
              "        [0., 0., 0., ..., 0., 1., 0.],\n",
              "        [0., 0., 0., ..., 0., 1., 0.],\n",
              "        ...,\n",
              "        [0., 0., 0., ..., 0., 0., 0.],\n",
              "        [0., 0., 0., ..., 1., 0., 0.],\n",
              "        [0., 0., 0., ..., 1., 0., 0.]],\n",
              "\n",
              "       [[0., 0., 0., ..., 0., 0., 0.],\n",
              "        [0., 0., 1., ..., 0., 0., 0.],\n",
              "        [0., 0., 0., ..., 0., 0., 1.],\n",
              "        ...,\n",
              "        [0., 1., 0., ..., 0., 0., 0.],\n",
              "        [0., 0., 0., ..., 0., 1., 0.],\n",
              "        [0., 0., 0., ..., 0., 1., 0.]],\n",
              "\n",
              "       ...,\n",
              "\n",
              "       [[0., 0., 0., ..., 0., 0., 1.],\n",
              "        [0., 0., 0., ..., 0., 0., 0.],\n",
              "        [0., 0., 1., ..., 0., 0., 0.],\n",
              "        ...,\n",
              "        [0., 0., 0., ..., 0., 1., 0.],\n",
              "        [0., 0., 0., ..., 0., 0., 1.],\n",
              "        [0., 1., 0., ..., 0., 0., 0.]],\n",
              "\n",
              "       [[0., 0., 0., ..., 0., 1., 0.],\n",
              "        [0., 0., 0., ..., 0., 0., 0.],\n",
              "        [0., 0., 0., ..., 0., 0., 0.],\n",
              "        ...,\n",
              "        [0., 0., 0., ..., 0., 0., 0.],\n",
              "        [0., 0., 0., ..., 0., 0., 0.],\n",
              "        [0., 0., 0., ..., 0., 0., 1.]],\n",
              "\n",
              "       [[0., 0., 0., ..., 0., 0., 0.],\n",
              "        [0., 0., 0., ..., 0., 0., 0.],\n",
              "        [0., 0., 0., ..., 0., 0., 0.],\n",
              "        ...,\n",
              "        [0., 0., 0., ..., 0., 0., 0.],\n",
              "        [0., 0., 0., ..., 0., 1., 0.],\n",
              "        [0., 0., 0., ..., 0., 1., 0.]]])"
            ]
          },
          "metadata": {},
          "execution_count": 7
        }
      ]
    },
    {
      "cell_type": "code",
      "execution_count": null,
      "metadata": {
        "colab": {
          "base_uri": "https://localhost:8080/"
        },
        "id": "Vtga2ae36xaq",
        "outputId": "5e624d37-78e4-4770-9b6c-99e27349df03"
      },
      "outputs": [
        {
          "data": {
            "text/plain": [
              "(160000, 9, 10)"
            ]
          },
          "execution_count": 17,
          "metadata": {},
          "output_type": "execute_result"
        }
      ],
      "source": [
        "X_train.shape"
      ]
    },
    {
      "cell_type": "code",
      "execution_count": null,
      "metadata": {
        "colab": {
          "base_uri": "https://localhost:8080/"
        },
        "id": "Q2QVWqJp7iLp",
        "outputId": "5153ad05-20ef-4b90-b572-f47651c8c5b6"
      },
      "outputs": [
        {
          "data": {
            "text/plain": [
              "(40000,)"
            ]
          },
          "execution_count": 18,
          "metadata": {},
          "output_type": "execute_result"
        }
      ],
      "source": [
        "y_test.shape"
      ]
    },
    {
      "cell_type": "code",
      "execution_count": null,
      "metadata": {
        "id": "G-x9ZPu1y8rs"
      },
      "outputs": [],
      "source": [
        "x_train = np.reshape(X_train,[-1, 9, 10])\n",
        "x_test = np.reshape(X_test,[-1, 9, 10])\n",
        "x_train = X_train.astype('float32')\n",
        "x_test = X_test.astype('float32')"
      ]
    },
    {
      "cell_type": "code",
      "execution_count": null,
      "metadata": {
        "colab": {
          "base_uri": "https://localhost:8080/"
        },
        "id": "bAe55nXIDhqv",
        "outputId": "3777a941-2925-47c7-b194-1044c8f0480b"
      },
      "outputs": [
        {
          "data": {
            "text/plain": [
              "8"
            ]
          },
          "execution_count": 22,
          "metadata": {},
          "output_type": "execute_result"
        }
      ],
      "source": [
        "num_labels = len(np.unique(y_train))\n",
        "num_labels"
      ]
    },
    {
      "cell_type": "code",
      "execution_count": null,
      "metadata": {
        "colab": {
          "base_uri": "https://localhost:8080/"
        },
        "id": "daoUU9c8Eqrr",
        "outputId": "2c284776-aa93-4459-b50c-e6f45dba2402"
      },
      "outputs": [
        {
          "data": {
            "text/plain": [
              "0"
            ]
          },
          "execution_count": 15,
          "metadata": {},
          "output_type": "execute_result"
        }
      ],
      "source": [
        "y_test[0]"
      ]
    },
    {
      "cell_type": "code",
      "execution_count": null,
      "metadata": {
        "colab": {
          "base_uri": "https://localhost:8080/"
        },
        "id": "OpjmKw8dEtzq",
        "outputId": "8eba948e-d964-4f84-96a1-0a73eeadd058"
      },
      "outputs": [
        {
          "data": {
            "text/plain": [
              "4"
            ]
          },
          "execution_count": 10,
          "metadata": {},
          "output_type": "execute_result"
        }
      ],
      "source": [
        "y_train[0]"
      ]
    },
    {
      "cell_type": "code",
      "execution_count": null,
      "metadata": {
        "id": "gxkfZpzEDZqD"
      },
      "outputs": [],
      "source": [
        "from keras.utils import to_categorical\n",
        "y_train = to_categorical(y_train)\n",
        "y_test = to_categorical(y_test)"
      ]
    },
    {
      "cell_type": "markdown",
      "metadata": {
        "id": "hocPXJ3giBkL"
      },
      "source": [
        "#RNN"
      ]
    },
    {
      "cell_type": "code",
      "execution_count": null,
      "metadata": {
        "colab": {
          "base_uri": "https://localhost:8080/"
        },
        "id": "hY3NRD84yYOB",
        "outputId": "92d1b2d8-eb07-4e59-e9f4-c0979e94dcb8"
      },
      "outputs": [
        {
          "name": "stdout",
          "output_type": "stream",
          "text": [
            "Model: \"sequential_4\"\n",
            "_________________________________________________________________\n",
            " Layer (type)                Output Shape              Param #   \n",
            "=================================================================\n",
            " simple_rnn_6 (SimpleRNN)    (None, 128)               17792     \n",
            "                                                                 \n",
            " dropout_2 (Dropout)         (None, 128)               0         \n",
            "                                                                 \n",
            " dense_1 (Dense)             (None, 6)                 774       \n",
            "                                                                 \n",
            " activation_1 (Activation)   (None, 6)                 0         \n",
            "                                                                 \n",
            "=================================================================\n",
            "Total params: 18,566\n",
            "Trainable params: 18,566\n",
            "Non-trainable params: 0\n",
            "_________________________________________________________________\n"
          ]
        }
      ],
      "source": [
        "import keras\n",
        "from keras.models import Sequential\n",
        "from keras.layers import Dense, Activation, SimpleRNN\n",
        "\n",
        "\n",
        "input_shape = (9, 10)\n",
        "batch_size = 64\n",
        "units = 128\n",
        "dropout = 0.2\n",
        "\n",
        "model = Sequential()\n",
        "model.add(SimpleRNN(units=units,\n",
        "                    input_shape=input_shape))\n",
        "model.add(keras.layers.Dropout(0.2))\n",
        "# model.add(SimpleRNN(units=64))\n",
        "# model.add(keras.layers.Dense(64, activation='relu'))\n",
        "# model.add(keras.layers.Dropout(0.2))\n",
        "model.add(Dense(num_labels))\n",
        "model.add(Activation('softmax'))\n",
        "model.summary()"
      ]
    },
    {
      "cell_type": "code",
      "execution_count": null,
      "metadata": {
        "colab": {
          "base_uri": "https://localhost:8080/"
        },
        "id": "aJvHoBQHDmuC",
        "outputId": "ff598b2e-16ff-4faf-b33a-972bcaa3d501"
      },
      "outputs": [
        {
          "name": "stdout",
          "output_type": "stream",
          "text": [
            "Epoch 1/30\n",
            "2500/2500 [==============================] - 14s 5ms/step - loss: 1.1706 - accuracy: 0.5583 - val_loss: 1.0822 - val_accuracy: 0.5937\n",
            "Epoch 2/30\n",
            "2500/2500 [==============================] - 13s 5ms/step - loss: 1.0672 - accuracy: 0.5940 - val_loss: 1.0147 - val_accuracy: 0.6153\n",
            "Epoch 3/30\n",
            "2500/2500 [==============================] - 13s 5ms/step - loss: 1.0212 - accuracy: 0.6095 - val_loss: 0.9816 - val_accuracy: 0.6240\n",
            "Epoch 4/30\n",
            "2500/2500 [==============================] - 13s 5ms/step - loss: 0.9863 - accuracy: 0.6220 - val_loss: 0.9529 - val_accuracy: 0.6354\n",
            "Epoch 5/30\n",
            "2500/2500 [==============================] - 13s 5ms/step - loss: 0.9583 - accuracy: 0.6317 - val_loss: 0.9336 - val_accuracy: 0.6421\n",
            "Epoch 6/30\n",
            "2500/2500 [==============================] - 13s 5ms/step - loss: 0.9352 - accuracy: 0.6402 - val_loss: 0.9054 - val_accuracy: 0.6534\n",
            "Epoch 7/30\n",
            "2500/2500 [==============================] - 12s 5ms/step - loss: 0.9169 - accuracy: 0.6466 - val_loss: 0.8915 - val_accuracy: 0.6553\n",
            "Epoch 8/30\n",
            "2500/2500 [==============================] - 12s 5ms/step - loss: 0.9015 - accuracy: 0.6531 - val_loss: 0.8776 - val_accuracy: 0.6630\n",
            "Epoch 9/30\n",
            "2500/2500 [==============================] - 12s 5ms/step - loss: 0.8878 - accuracy: 0.6574 - val_loss: 0.8657 - val_accuracy: 0.6676\n",
            "Epoch 10/30\n",
            "2500/2500 [==============================] - 13s 5ms/step - loss: 0.8749 - accuracy: 0.6638 - val_loss: 0.8598 - val_accuracy: 0.6709\n",
            "Epoch 11/30\n",
            "2500/2500 [==============================] - 13s 5ms/step - loss: 0.8656 - accuracy: 0.6662 - val_loss: 0.8578 - val_accuracy: 0.6680\n",
            "Epoch 12/30\n",
            "2500/2500 [==============================] - 13s 5ms/step - loss: 0.8563 - accuracy: 0.6696 - val_loss: 0.8466 - val_accuracy: 0.6751\n",
            "Epoch 13/30\n",
            "2500/2500 [==============================] - 13s 5ms/step - loss: 0.8496 - accuracy: 0.6725 - val_loss: 0.8480 - val_accuracy: 0.6755\n",
            "Epoch 14/30\n",
            "2500/2500 [==============================] - 12s 5ms/step - loss: 0.8431 - accuracy: 0.6749 - val_loss: 0.8423 - val_accuracy: 0.6773\n",
            "Epoch 15/30\n",
            "2500/2500 [==============================] - 13s 5ms/step - loss: 0.8361 - accuracy: 0.6773 - val_loss: 0.8443 - val_accuracy: 0.6775\n",
            "Epoch 16/30\n",
            "2500/2500 [==============================] - 12s 5ms/step - loss: 0.8320 - accuracy: 0.6784 - val_loss: 0.8388 - val_accuracy: 0.6792\n",
            "Epoch 17/30\n",
            "2500/2500 [==============================] - 13s 5ms/step - loss: 0.8259 - accuracy: 0.6809 - val_loss: 0.8232 - val_accuracy: 0.6826\n",
            "Epoch 18/30\n",
            "2500/2500 [==============================] - 12s 5ms/step - loss: 0.8222 - accuracy: 0.6826 - val_loss: 0.8211 - val_accuracy: 0.6833\n",
            "Epoch 19/30\n",
            "2500/2500 [==============================] - 12s 5ms/step - loss: 0.8174 - accuracy: 0.6837 - val_loss: 0.8296 - val_accuracy: 0.6794\n",
            "Epoch 20/30\n",
            "2500/2500 [==============================] - 13s 5ms/step - loss: 0.8143 - accuracy: 0.6852 - val_loss: 0.8188 - val_accuracy: 0.6849\n",
            "Epoch 21/30\n",
            "2500/2500 [==============================] - 13s 5ms/step - loss: 0.8121 - accuracy: 0.6854 - val_loss: 0.8202 - val_accuracy: 0.6851\n",
            "Epoch 22/30\n",
            "2500/2500 [==============================] - 12s 5ms/step - loss: 0.8082 - accuracy: 0.6877 - val_loss: 0.8210 - val_accuracy: 0.6860\n",
            "Epoch 23/30\n",
            "2500/2500 [==============================] - 13s 5ms/step - loss: 0.8034 - accuracy: 0.6898 - val_loss: 0.8203 - val_accuracy: 0.6857\n",
            "Epoch 24/30\n",
            "2500/2500 [==============================] - 12s 5ms/step - loss: 0.8018 - accuracy: 0.6898 - val_loss: 0.8175 - val_accuracy: 0.6844\n",
            "Epoch 25/30\n",
            "2500/2500 [==============================] - 13s 5ms/step - loss: 0.7993 - accuracy: 0.6913 - val_loss: 0.8140 - val_accuracy: 0.6903\n",
            "Epoch 26/30\n",
            "2500/2500 [==============================] - 13s 5ms/step - loss: 0.7974 - accuracy: 0.6921 - val_loss: 0.8133 - val_accuracy: 0.6877\n",
            "Epoch 27/30\n",
            "2500/2500 [==============================] - 12s 5ms/step - loss: 0.7963 - accuracy: 0.6925 - val_loss: 0.8205 - val_accuracy: 0.6884\n",
            "Epoch 28/30\n",
            "2500/2500 [==============================] - 13s 5ms/step - loss: 0.7941 - accuracy: 0.6925 - val_loss: 0.8141 - val_accuracy: 0.6885\n",
            "Epoch 29/30\n",
            "2500/2500 [==============================] - 13s 5ms/step - loss: 0.7916 - accuracy: 0.6939 - val_loss: 0.8101 - val_accuracy: 0.6884\n",
            "Epoch 30/30\n",
            "2500/2500 [==============================] - 12s 5ms/step - loss: 0.7919 - accuracy: 0.6941 - val_loss: 0.8108 - val_accuracy: 0.6892\n"
          ]
        },
        {
          "data": {
            "text/plain": [
              "<keras.callbacks.History at 0x7fc05c42ecd0>"
            ]
          },
          "execution_count": 20,
          "metadata": {},
          "output_type": "execute_result"
        }
      ],
      "source": [
        "model.compile(loss='categorical_crossentropy',\n",
        "              optimizer='adam',\n",
        "              metrics=['accuracy'])\n",
        "# train the network\n",
        "model.fit(x_train, y_train, validation_data=(x_test, y_test), epochs=30, batch_size=batch_size)"
      ]
    },
    {
      "cell_type": "code",
      "execution_count": null,
      "metadata": {
        "colab": {
          "base_uri": "https://localhost:8080/"
        },
        "id": "lvBDQFPU8U1l",
        "outputId": "77f39bf2-025e-428c-f432-58347cf58193"
      },
      "outputs": [
        {
          "data": {
            "text/plain": [
              "(9, 10)"
            ]
          },
          "execution_count": 19,
          "metadata": {},
          "output_type": "execute_result"
        }
      ],
      "source": [
        "X_train.shape[1:]"
      ]
    },
    {
      "cell_type": "markdown",
      "metadata": {
        "id": "5hA0aEparj6u"
      },
      "source": [
        "#a"
      ]
    },
    {
      "cell_type": "code",
      "execution_count": null,
      "metadata": {
        "colab": {
          "base_uri": "https://localhost:8080/"
        },
        "id": "JkpIWbP26YjD",
        "outputId": "3206cb96-a124-48e0-85e7-e8377bbe2a70"
      },
      "outputs": [
        {
          "name": "stdout",
          "output_type": "stream",
          "text": [
            "Epoch 1/100\n",
            "5000/5000 [==============================] - 63s 12ms/step - loss: 1.1783 - accuracy: 0.5621 - val_loss: 1.0025 - val_accuracy: 0.6204\n",
            "Epoch 2/100\n",
            "5000/5000 [==============================] - 53s 11ms/step - loss: 0.9646 - accuracy: 0.6378 - val_loss: 0.8829 - val_accuracy: 0.6672\n",
            "Epoch 3/100\n",
            "5000/5000 [==============================] - 53s 11ms/step - loss: 0.8725 - accuracy: 0.6709 - val_loss: 0.8305 - val_accuracy: 0.6874\n",
            "Epoch 4/100\n",
            "5000/5000 [==============================] - 52s 10ms/step - loss: 0.8058 - accuracy: 0.6942 - val_loss: 0.7782 - val_accuracy: 0.7071\n",
            "Epoch 5/100\n",
            "5000/5000 [==============================] - 53s 11ms/step - loss: 0.7521 - accuracy: 0.7127 - val_loss: 0.7488 - val_accuracy: 0.7130\n",
            "Epoch 6/100\n",
            " 786/5000 [===>..........................] - ETA: 40s - loss: 0.7168 - accuracy: 0.7260"
          ]
        }
      ],
      "source": [
        "import keras\n",
        "from keras.layers import LSTM, Bidirectional\n",
        "\n",
        "model = keras.models.Sequential()\n",
        "\n",
        "# model.add(keras.layers.LSTM(128, input_shape=(X_train.shape[1:]), return_sequences=True))\n",
        "model.add(Bidirectional(LSTM(128, return_sequences=True), input_shape=(X_train.shape[1:])))\n",
        "# model.add(Attention(units=128))\n",
        "model.add(keras.layers.Dropout(0.2))\n",
        "# model.add(keras.layers.LSTM(128))\n",
        "model.add(Bidirectional(LSTM(128)))\n",
        "model.add(keras.layers.Dense(64, activation='relu'))\n",
        "model.add(keras.layers.Dropout(0.2))\n",
        "model.add(keras.layers.Dense(32, activation='relu'))\n",
        "model.add(keras.layers.Dropout(0.2))\n",
        "model.add(keras.layers.Dense(8, activation='softmax'))\n",
        "\n",
        "#Compiling the model\n",
        "model.compile( loss='sparse_categorical_crossentropy', optimizer = keras.optimizers.Adam(learning_rate=0.001, decay=1e-6), metrics=['accuracy'] )\n",
        "import tensorflow as tf\n",
        "callback = tf.keras.callbacks.EarlyStopping(monitor='val_accuracy', patience=20, mode = 'max', verbose = 1)\n",
        "history = model.fit(X_train, y_train, epochs=100, validation_data=(X_test, y_test), callbacks=[callback])"
      ]
    },
    {
      "cell_type": "code",
      "execution_count": null,
      "metadata": {
        "colab": {
          "base_uri": "https://localhost:8080/"
        },
        "id": "SWGdGSxE9j-i",
        "outputId": "9dc16842-c291-4c29-e081-e8061c14d08b"
      },
      "outputs": [
        {
          "name": "stdout",
          "output_type": "stream",
          "text": [
            "1250/1250 [==============================] - 7s 5ms/step\n"
          ]
        }
      ],
      "source": [
        "a = model.predict(X_test.reshape(-1,9,10))"
      ]
    },
    {
      "cell_type": "code",
      "execution_count": null,
      "metadata": {
        "colab": {
          "base_uri": "https://localhost:8080/"
        },
        "id": "-FMnB5kS99wU",
        "outputId": "4b007ad7-6256-4d82-c06a-dfb89871e16c"
      },
      "outputs": [
        {
          "data": {
            "text/plain": [
              "array([[9.99996781e-01, 3.16619048e-06, 3.09144212e-08, 5.76050707e-10,\n",
              "        3.78999696e-12, 2.14534938e-15],\n",
              "       [9.98979270e-01, 8.04272422e-04, 1.80935574e-04, 3.52015268e-05,\n",
              "        2.36667475e-07, 7.94233429e-12],\n",
              "       [9.76515189e-03, 1.59254260e-02, 2.09216192e-01, 6.86319053e-01,\n",
              "        7.63596296e-02, 2.41459440e-03],\n",
              "       ...,\n",
              "       [5.58318794e-01, 4.21119124e-01, 1.26616163e-02, 1.51582400e-03,\n",
              "        6.06492115e-03, 3.19650571e-04],\n",
              "       [3.25390249e-02, 9.63104010e-01, 4.22488572e-03, 6.56707707e-05,\n",
              "        6.63824903e-05, 3.09065462e-09],\n",
              "       [3.16821797e-07, 9.99999404e-01, 5.27020099e-08, 2.15588543e-07,\n",
              "        2.83457924e-09, 1.10618645e-20]], dtype=float32)"
            ]
          },
          "execution_count": 18,
          "metadata": {},
          "output_type": "execute_result"
        }
      ],
      "source": [
        "a"
      ]
    },
    {
      "cell_type": "markdown",
      "metadata": {
        "id": "SpuiwSykL94T"
      },
      "source": [
        "#perceptron"
      ]
    },
    {
      "cell_type": "code",
      "execution_count": null,
      "metadata": {
        "colab": {
          "background_save": true,
          "base_uri": "https://localhost:8080/"
        },
        "id": "XLmAyrULJV-v",
        "outputId": "b8677123-a145-45d2-c873-7a9f670c3e19"
      },
      "outputs": [
        {
          "name": "stdout",
          "output_type": "stream",
          "text": [
            "Epoch 1/30\n",
            "5000/5000 [==============================] - 22s 4ms/step - loss: 1.0888 - accuracy: 0.5860 - val_loss: 0.9721 - val_accuracy: 0.6284\n",
            "Epoch 2/30\n",
            "5000/5000 [==============================] - 15s 3ms/step - loss: 0.9376 - accuracy: 0.6395 - val_loss: 0.9083 - val_accuracy: 0.6503\n",
            "Epoch 3/30\n",
            "5000/5000 [==============================] - 14s 3ms/step - loss: 0.8942 - accuracy: 0.6547 - val_loss: 0.8820 - val_accuracy: 0.6607\n",
            "Epoch 4/30\n",
            "5000/5000 [==============================] - 13s 3ms/step - loss: 0.8704 - accuracy: 0.6637 - val_loss: 0.8648 - val_accuracy: 0.6660\n",
            "Epoch 5/30\n",
            "5000/5000 [==============================] - 14s 3ms/step - loss: 0.8545 - accuracy: 0.6691 - val_loss: 0.8524 - val_accuracy: 0.6713\n",
            "Epoch 6/30\n",
            "5000/5000 [==============================] - 14s 3ms/step - loss: 0.8417 - accuracy: 0.6730 - val_loss: 0.8466 - val_accuracy: 0.6701\n",
            "Epoch 7/30\n",
            "5000/5000 [==============================] - 13s 3ms/step - loss: 0.8314 - accuracy: 0.6772 - val_loss: 0.8341 - val_accuracy: 0.6775\n",
            "Epoch 8/30\n",
            "5000/5000 [==============================] - 13s 3ms/step - loss: 0.8229 - accuracy: 0.6798 - val_loss: 0.8234 - val_accuracy: 0.6814\n",
            "Epoch 9/30\n",
            "5000/5000 [==============================] - 14s 3ms/step - loss: 0.8154 - accuracy: 0.6830 - val_loss: 0.8253 - val_accuracy: 0.6813\n",
            "Epoch 10/30\n",
            "5000/5000 [==============================] - 14s 3ms/step - loss: 0.8083 - accuracy: 0.6849 - val_loss: 0.8196 - val_accuracy: 0.6810\n",
            "Epoch 11/30\n",
            "5000/5000 [==============================] - 14s 3ms/step - loss: 0.8023 - accuracy: 0.6884 - val_loss: 0.8115 - val_accuracy: 0.6873\n",
            "Epoch 12/30\n",
            "5000/5000 [==============================] - 14s 3ms/step - loss: 0.7969 - accuracy: 0.6897 - val_loss: 0.8078 - val_accuracy: 0.6870\n",
            "Epoch 13/30\n",
            "5000/5000 [==============================] - 13s 3ms/step - loss: 0.7934 - accuracy: 0.6914 - val_loss: 0.8076 - val_accuracy: 0.6875\n",
            "Epoch 14/30\n",
            "5000/5000 [==============================] - 13s 3ms/step - loss: 0.7891 - accuracy: 0.6922 - val_loss: 0.8019 - val_accuracy: 0.6903\n",
            "Epoch 15/30\n",
            "5000/5000 [==============================] - 17s 3ms/step - loss: 0.7856 - accuracy: 0.6939 - val_loss: 0.7986 - val_accuracy: 0.6887\n",
            "Epoch 16/30\n",
            "5000/5000 [==============================] - 15s 3ms/step - loss: 0.7823 - accuracy: 0.6955 - val_loss: 0.7991 - val_accuracy: 0.6902\n",
            "Epoch 17/30\n",
            "5000/5000 [==============================] - 14s 3ms/step - loss: 0.7791 - accuracy: 0.6963 - val_loss: 0.7963 - val_accuracy: 0.6916\n",
            "Epoch 18/30\n",
            "5000/5000 [==============================] - 14s 3ms/step - loss: 0.7761 - accuracy: 0.6977 - val_loss: 0.7992 - val_accuracy: 0.6907\n",
            "Epoch 19/30\n",
            " 951/5000 [====>.........................] - ETA: 9s - loss: 0.7667 - accuracy: 0.7014"
          ]
        }
      ],
      "source": [
        "from keras.layers import Dense, Flatten\n",
        "from keras.models import Sequential\n",
        "from keras import metrics \n",
        "# 2. buid model \n",
        "model = Sequential()\n",
        "model.add(Flatten(input_shape=(9, 10)))\n",
        "model.add(Dense(32, activation='relu'))\n",
        "model.add(Dense(64, activation='relu'))\n",
        "# model.add(Dense(128, activation='relu'))\n",
        "model.add(Dense(num_labels, activation='softmax'))\n",
        "\n",
        "# 3. loss, metrics \n",
        "model.compile(loss='categorical_crossentropy',\n",
        "              optimizer='adam',\n",
        "              metrics=['accuracy'])\n",
        "model.fit(X_train, y_train, validation_data=(X_test, y_test), epochs=30)"
      ]
    },
    {
      "cell_type": "markdown",
      "metadata": {
        "id": "vXOBS807UjLf"
      },
      "source": [
        "#b\n"
      ]
    },
    {
      "cell_type": "code",
      "execution_count": null,
      "metadata": {
        "id": "wglm1hrBUlCC",
        "colab": {
          "base_uri": "https://localhost:8080/"
        },
        "outputId": "539331a4-9885-4f52-aa06-372f452b31ba"
      },
      "outputs": [
        {
          "output_type": "stream",
          "name": "stdout",
          "text": [
            "Model: \"model_3\"\n",
            "_________________________________________________________________\n",
            " Layer (type)                Output Shape              Param #   \n",
            "=================================================================\n",
            " input_4 (InputLayer)        [(None, 9, 10)]           0         \n",
            "                                                                 \n",
            " conv1d_6 (Conv1D)           (None, 9, 64)             1344      \n",
            "                                                                 \n",
            " conv1d_7 (Conv1D)           (None, 9, 128)            16512     \n",
            "                                                                 \n",
            " batch_normalization_3 (Batc  (None, 9, 128)           512       \n",
            " hNormalization)                                                 \n",
            "                                                                 \n",
            " max_pooling1d_3 (MaxPooling  (None, 4, 128)           0         \n",
            " 1D)                                                             \n",
            "                                                                 \n",
            " bidirectional_6 (Bidirectio  (None, 4, 400)           526400    \n",
            " nal)                                                            \n",
            "                                                                 \n",
            " dropout_4 (Dropout)         (None, 4, 400)            0         \n",
            "                                                                 \n",
            " bidirectional_7 (Bidirectio  (None, 400)              961600    \n",
            " nal)                                                            \n",
            "                                                                 \n",
            " dropout_5 (Dropout)         (None, 400)               0         \n",
            "                                                                 \n",
            " dense_3 (Dense)             (None, 7)                 2807      \n",
            "                                                                 \n",
            "=================================================================\n",
            "Total params: 1,509,175\n",
            "Trainable params: 1,508,919\n",
            "Non-trainable params: 256\n",
            "_________________________________________________________________\n"
          ]
        }
      ],
      "source": [
        "from tensorflow import keras\n",
        "from keras.models import Model\n",
        "from keras.layers import LSTM, Bidirectional, Conv1D, MaxPooling1D, BatchNormalization, Input, Dense, Dropout, Flatten\n",
        "\n",
        "input_layer = Input(shape=(9, 10))\n",
        "conv1 = Conv1D(64, 2, activation='relu', padding='same')(input_layer)\n",
        "conv2 = Conv1D(128, 2, activation='relu', padding='same')(conv1)\n",
        "x = BatchNormalization()(conv2)\n",
        "x = MaxPooling1D(2)(x)\n",
        "\n",
        "lstm1 = Bidirectional(LSTM(200, return_sequences=True), \n",
        "                             input_shape=(x.shape[1:]))(x)\n",
        "x = Dropout(0.2)(lstm1)\n",
        "\n",
        "lstm2 = Bidirectional(LSTM(200))(x)\n",
        "x = Dropout(0.2)(lstm2)\n",
        "\n",
        "output_layer = Dense(7, activation='softmax')(x)\n",
        "model = Model(inputs=input_layer, outputs=output_layer)\n",
        "model.compile( loss='sparse_categorical_crossentropy', optimizer = keras.optimizers.Adam(), metrics=['accuracy'] )\n",
        "model.summary()"
      ]
    },
    {
      "cell_type": "code",
      "execution_count": null,
      "metadata": {
        "colab": {
          "base_uri": "https://localhost:8080/"
        },
        "id": "seBHIKhWWUcS",
        "outputId": "7f03e996-dfe2-46e6-e71d-635a95b5c384"
      },
      "outputs": [
        {
          "output_type": "stream",
          "name": "stdout",
          "text": [
            "Epoch 1/200\n",
            "5000/5000 [==============================] - 63s 12ms/step - loss: 0.8970 - accuracy: 0.6591 - val_loss: 0.7527 - val_accuracy: 0.7146\n",
            "Epoch 2/200\n",
            "5000/5000 [==============================] - 57s 11ms/step - loss: 0.6870 - accuracy: 0.7358 - val_loss: 0.6522 - val_accuracy: 0.7494\n",
            "Epoch 3/200\n",
            "5000/5000 [==============================] - 57s 11ms/step - loss: 0.6045 - accuracy: 0.7665 - val_loss: 0.6172 - val_accuracy: 0.7634\n",
            "Epoch 4/200\n",
            "5000/5000 [==============================] - 62s 12ms/step - loss: 0.5448 - accuracy: 0.7895 - val_loss: 0.5961 - val_accuracy: 0.7728\n",
            "Epoch 5/200\n",
            "5000/5000 [==============================] - 56s 11ms/step - loss: 0.4961 - accuracy: 0.8078 - val_loss: 0.5944 - val_accuracy: 0.7761\n",
            "Epoch 6/200\n",
            "5000/5000 [==============================] - 56s 11ms/step - loss: 0.4551 - accuracy: 0.8230 - val_loss: 0.6028 - val_accuracy: 0.7774\n",
            "Epoch 7/200\n",
            "5000/5000 [==============================] - 57s 11ms/step - loss: 0.4177 - accuracy: 0.8379 - val_loss: 0.6206 - val_accuracy: 0.7761\n",
            "Epoch 8/200\n",
            "5000/5000 [==============================] - 57s 11ms/step - loss: 0.3840 - accuracy: 0.8500 - val_loss: 0.6144 - val_accuracy: 0.7782\n",
            "Epoch 9/200\n",
            "5000/5000 [==============================] - 57s 11ms/step - loss: 0.3578 - accuracy: 0.8608 - val_loss: 0.6287 - val_accuracy: 0.7820\n",
            "Epoch 10/200\n",
            "5000/5000 [==============================] - 56s 11ms/step - loss: 0.3321 - accuracy: 0.8710 - val_loss: 0.6591 - val_accuracy: 0.7766\n",
            "Epoch 11/200\n",
            "5000/5000 [==============================] - 56s 11ms/step - loss: 0.3098 - accuracy: 0.8793 - val_loss: 0.6723 - val_accuracy: 0.7822\n",
            "Epoch 12/200\n",
            "5000/5000 [==============================] - 57s 11ms/step - loss: 0.2911 - accuracy: 0.8868 - val_loss: 0.7029 - val_accuracy: 0.7790\n",
            "Epoch 13/200\n",
            "5000/5000 [==============================] - 56s 11ms/step - loss: 0.2759 - accuracy: 0.8934 - val_loss: 0.7165 - val_accuracy: 0.7792\n",
            "Epoch 14/200\n",
            "5000/5000 [==============================] - 57s 11ms/step - loss: 0.2604 - accuracy: 0.8995 - val_loss: 0.7257 - val_accuracy: 0.7784\n",
            "Epoch 15/200\n",
            "5000/5000 [==============================] - 56s 11ms/step - loss: 0.2499 - accuracy: 0.9038 - val_loss: 0.7434 - val_accuracy: 0.7770\n",
            "Epoch 16/200\n",
            "5000/5000 [==============================] - 57s 11ms/step - loss: 0.2363 - accuracy: 0.9093 - val_loss: 0.7758 - val_accuracy: 0.7771\n",
            "Epoch 17/200\n",
            "5000/5000 [==============================] - 56s 11ms/step - loss: 0.2292 - accuracy: 0.9125 - val_loss: 0.7832 - val_accuracy: 0.7758\n",
            "Epoch 18/200\n",
            "5000/5000 [==============================] - 56s 11ms/step - loss: 0.2192 - accuracy: 0.9157 - val_loss: 0.7874 - val_accuracy: 0.7797\n",
            "Epoch 19/200\n",
            "5000/5000 [==============================] - 56s 11ms/step - loss: 0.2125 - accuracy: 0.9185 - val_loss: 0.8074 - val_accuracy: 0.7782\n",
            "Epoch 20/200\n",
            "5000/5000 [==============================] - 56s 11ms/step - loss: 0.2059 - accuracy: 0.9215 - val_loss: 0.8121 - val_accuracy: 0.7788\n",
            "Epoch 21/200\n",
            "5000/5000 [==============================] - 62s 12ms/step - loss: 0.2017 - accuracy: 0.9234 - val_loss: 0.8279 - val_accuracy: 0.7779\n",
            "Epoch 21: early stopping\n"
          ]
        }
      ],
      "source": [
        "import tensorflow as tf\n",
        "BATCH_SIZE = 32\n",
        "EPOCHS = 200\n",
        "callback = tf.keras.callbacks.EarlyStopping(monitor='val_accuracy', patience=10, mode = 'max', verbose = 1)\n",
        "# model_save = tf.keras.callbacks.ModelCheckpoint('model.h5', save_best_only=True, monitor='val_accuracy', mode='max', verbose=1)\n",
        "history = model.fit(X_train, y_train, batch_size=BATCH_SIZE, epochs=EPOCHS, validation_data=(X_test, y_test), callbacks=[callback])"
      ]
    },
    {
      "cell_type": "code",
      "execution_count": null,
      "metadata": {
        "colab": {
          "base_uri": "https://localhost:8080/"
        },
        "id": "QvNeikaJMbzR",
        "outputId": "f0982531-e35d-428b-dc62-9d5da9d9c626"
      },
      "outputs": [
        {
          "name": "stdout",
          "output_type": "stream",
          "text": [
            "Model: \"sequential_7\"\n",
            "_________________________________________________________________\n",
            " Layer (type)                Output Shape              Param #   \n",
            "=================================================================\n",
            " conv1d_21 (Conv1D)          (None, 9, 32)             672       \n",
            "                                                                 \n",
            " batch_normalization_21 (Bat  (None, 9, 32)            128       \n",
            " chNormalization)                                                \n",
            "                                                                 \n",
            " conv1d_22 (Conv1D)          (None, 9, 64)             4160      \n",
            "                                                                 \n",
            " batch_normalization_22 (Bat  (None, 9, 64)            256       \n",
            " chNormalization)                                                \n",
            "                                                                 \n",
            " conv1d_23 (Conv1D)          (None, 9, 128)            16512     \n",
            "                                                                 \n",
            " batch_normalization_23 (Bat  (None, 9, 128)           512       \n",
            " chNormalization)                                                \n",
            "                                                                 \n",
            " max_pooling1d_7 (MaxPooling  (None, 4, 128)           0         \n",
            " 1D)                                                             \n",
            "                                                                 \n",
            " flatten_4 (Flatten)         (None, 512)               0         \n",
            "                                                                 \n",
            " dense_8 (Dense)             (None, 64)                32832     \n",
            "                                                                 \n",
            " dropout_5 (Dropout)         (None, 64)                0         \n",
            "                                                                 \n",
            " dense_9 (Dense)             (None, 7)                 455       \n",
            "                                                                 \n",
            "=================================================================\n",
            "Total params: 55,527\n",
            "Trainable params: 55,079\n",
            "Non-trainable params: 448\n",
            "_________________________________________________________________\n",
            "None\n"
          ]
        }
      ],
      "source": [
        "print(model.summary())"
      ]
    },
    {
      "cell_type": "code",
      "execution_count": null,
      "metadata": {
        "colab": {
          "base_uri": "https://localhost:8080/"
        },
        "id": "STN5myS7NY_u",
        "outputId": "8e1e921f-4b6f-423f-c2d8-a6b1b4df222e"
      },
      "outputs": [
        {
          "name": "stdout",
          "output_type": "stream",
          "text": [
            "1250/1250 [==============================] - 8s 5ms/step\n",
            "              precision    recall  f1-score   support\n",
            "\n",
            "           0       0.90      0.95      0.92      9136\n",
            "           1       0.77      0.79      0.78      6083\n",
            "           2       0.86      0.78      0.82      7665\n",
            "           3       0.61      0.65      0.63      5915\n",
            "           4       0.55      0.48      0.52      4187\n",
            "           5       0.75      0.79      0.77      5250\n",
            "           6       0.96      0.84      0.89      1764\n",
            "\n",
            "    accuracy                           0.78     40000\n",
            "   macro avg       0.77      0.76      0.76     40000\n",
            "weighted avg       0.78      0.78      0.77     40000\n",
            "\n"
          ]
        }
      ],
      "source": [
        "aa = model.predict(X_test)\n",
        "from sklearn.metrics import classification_report, confusion_matrix, accuracy_score\n",
        "y_pred = np.argmax(aa, axis=1)\n",
        "print(classification_report(y_test,y_pred))"
      ]
    },
    {
      "cell_type": "code",
      "execution_count": null,
      "metadata": {
        "colab": {
          "base_uri": "https://localhost:8080/"
        },
        "id": "bi4aGlXgSZut",
        "outputId": "aca7c264-dff7-4b1b-b12f-de23d18b6485"
      },
      "outputs": [
        {
          "name": "stdout",
          "output_type": "stream",
          "text": [
            "              precision    recall  f1-score   support\n",
            "\n",
            "           0       0.90      0.94      0.92      9136\n",
            "           1       0.79      0.76      0.78      6083\n",
            "           2       0.82      0.81      0.81      7665\n",
            "           3       0.61      0.63      0.62      5915\n",
            "           4       0.52      0.49      0.51      4187\n",
            "           5       0.76      0.76      0.76      5250\n",
            "           6       0.91      0.86      0.89      1764\n",
            "\n",
            "    accuracy                           0.77     40000\n",
            "   macro avg       0.76      0.75      0.75     40000\n",
            "weighted avg       0.77      0.77      0.77     40000\n",
            "\n"
          ]
        }
      ],
      "source": []
    },
    {
      "cell_type": "code",
      "execution_count": null,
      "metadata": {
        "id": "2hjG7kdUoCFk"
      },
      "outputs": [],
      "source": [
        "import keras\n",
        "from keras.layers import LSTM, Bidirectional, TimeDistributed, Conv1D, MaxPooling1D, BatchNormalization, Flatten\n",
        "\n",
        "model = keras.models.Sequential()\n",
        "# define CNN model\n",
        "model.add(Conv1D(64, 2, activation='relu', padding='same', input_shape=(9,10)))\n",
        "model.add(Conv1D(128, 2, activation='relu', padding='same'))\n",
        "model.add(BatchNormalization())\n",
        "model.add(MaxPooling1D())\n",
        "model.add(Flatten())\n",
        "# model.add(TimeDistributed(Flatten()))\n",
        "# define LSTM model\n",
        "# model.add(Bidirectional(LSTM(128, return_sequences=True),\n",
        "#                              input_shape=(X_train.shape[1:])))\n",
        "# model.add(Attention(units=128))\n",
        "# model.add(keras.layers.Dropout(0.2))\n",
        "# model.add(keras.layers.LSTM(128))\n",
        "# model.add(Bidirectional(LSTM(128)))\n",
        "model.add(keras.layers.Dense(64, activation='relu'))\n",
        "model.add(keras.layers.Dropout(0.2))\n",
        "# model.add(keras.layers.Dense(32, activation='relu'))\n",
        "# model.add(keras.layers.Dropout(0.2))\n",
        "model.add(keras.layers.Dense(7, activation='softmax'))\n",
        "#Compiling the model\n",
        "model.compile( loss='sparse_categorical_crossentropy', optimizer = keras.optimizers.Adam(learning_rate=0.001, decay=1e-6), metrics=['accuracy'] )\n",
        "# model.summary()"
      ]
    },
    {
      "cell_type": "code",
      "execution_count": null,
      "metadata": {
        "colab": {
          "base_uri": "https://localhost:8080/"
        },
        "id": "w70-LImnUxLb",
        "outputId": "b3621095-9b64-46da-b109-60b602e411a4"
      },
      "outputs": [
        {
          "name": "stdout",
          "output_type": "stream",
          "text": [
            "Epoch 1/10\n",
            "5000/5000 [==============================] - 19s 4ms/step - loss: 1.0725 - accuracy: 0.5985 - val_loss: 0.8894 - val_accuracy: 0.6679\n",
            "Epoch 2/10\n",
            "5000/5000 [==============================] - 19s 4ms/step - loss: 0.9003 - accuracy: 0.6587 - val_loss: 0.8242 - val_accuracy: 0.6856\n",
            "Epoch 3/10\n",
            "5000/5000 [==============================] - 21s 4ms/step - loss: 0.8465 - accuracy: 0.6761 - val_loss: 0.8167 - val_accuracy: 0.6929\n",
            "Epoch 4/10\n",
            "5000/5000 [==============================] - 17s 3ms/step - loss: 0.8125 - accuracy: 0.6891 - val_loss: 0.7682 - val_accuracy: 0.7085\n",
            "Epoch 5/10\n",
            "5000/5000 [==============================] - 17s 3ms/step - loss: 0.7915 - accuracy: 0.6962 - val_loss: 0.7622 - val_accuracy: 0.7101\n",
            "Epoch 6/10\n",
            "5000/5000 [==============================] - 17s 3ms/step - loss: 0.7740 - accuracy: 0.7025 - val_loss: 0.7463 - val_accuracy: 0.7150\n",
            "Epoch 7/10\n",
            "5000/5000 [==============================] - 18s 4ms/step - loss: 0.7611 - accuracy: 0.7063 - val_loss: 0.7313 - val_accuracy: 0.7211\n",
            "Epoch 8/10\n",
            "5000/5000 [==============================] - 18s 4ms/step - loss: 0.7490 - accuracy: 0.7101 - val_loss: 0.7376 - val_accuracy: 0.7203\n",
            "Epoch 9/10\n",
            "5000/5000 [==============================] - 18s 4ms/step - loss: 0.7386 - accuracy: 0.7135 - val_loss: 0.7200 - val_accuracy: 0.7261\n",
            "Epoch 10/10\n",
            "5000/5000 [==============================] - 18s 4ms/step - loss: 0.7302 - accuracy: 0.7180 - val_loss: 0.7233 - val_accuracy: 0.7272\n"
          ]
        }
      ],
      "source": [
        "import tensorflow as tf\n",
        "callback = tf.keras.callbacks.EarlyStopping(monitor='val_accuracy', patience=20, mode = 'max', verbose = 1)\n",
        "history = model.fit(X_train, y_train, epochs=10, validation_data=(X_test, y_test), callbacks=[callback])"
      ]
    },
    {
      "cell_type": "code",
      "execution_count": null,
      "metadata": {
        "colab": {
          "base_uri": "https://localhost:8080/"
        },
        "id": "BOvhkSXwVYWn",
        "outputId": "b22772ff-2d81-4b5e-a1d7-82d20994bd02"
      },
      "outputs": [
        {
          "name": "stdout",
          "output_type": "stream",
          "text": [
            "1250/1250 [==============================] - 2s 2ms/step\n",
            "              precision    recall  f1-score   support\n",
            "\n",
            "           0       0.86      0.97      0.91      9136\n",
            "           1       0.73      0.74      0.73      6083\n",
            "           2       0.88      0.71      0.79      7665\n",
            "           3       0.49      0.67      0.57      5915\n",
            "           4       0.51      0.34      0.41      4187\n",
            "           5       0.71      0.68      0.70      5250\n",
            "           6       0.92      0.73      0.82      1764\n",
            "\n",
            "    accuracy                           0.73     40000\n",
            "   macro avg       0.73      0.69      0.70     40000\n",
            "weighted avg       0.74      0.73      0.72     40000\n",
            "\n"
          ]
        }
      ],
      "source": [
        "aa = model.predict(X_test)\n",
        "from sklearn.metrics import classification_report, confusion_matrix, accuracy_score\n",
        "y_pred = np.argmax(aa, axis=1)\n",
        "print(classification_report(y_test,y_pred))"
      ]
    }
  ],
  "metadata": {
    "colab": {
      "collapsed_sections": [
        "hocPXJ3giBkL",
        "5hA0aEparj6u",
        "SpuiwSykL94T"
      ],
      "provenance": []
    },
    "gpuClass": "standard",
    "kernelspec": {
      "display_name": "Python 3",
      "name": "python3"
    },
    "language_info": {
      "name": "python"
    }
  },
  "nbformat": 4,
  "nbformat_minor": 0
}